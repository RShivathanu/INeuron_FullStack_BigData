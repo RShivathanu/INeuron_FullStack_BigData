{
 "cells": [
  {
   "cell_type": "markdown",
   "id": "56d80421",
   "metadata": {},
   "source": [
    "Ineuron Python Assignment-1 (1st week classes)\n",
    "Total 25 Questions"
   ]
  },
  {
   "cell_type": "markdown",
   "id": "7c9535ff",
   "metadata": {},
   "source": [
    "Q1. Why do we call Python as a general purpose and high-level programming language?\n",
    "\n",
    "Because, Python can be used in a wide variety of applications like Data Science, Machine learning, web development etc... Python is an object-oriented, high-level programming language. Object-oriented means this language is based around objects (such as data) rather than functions, and high-level means it's easy for humans to understand."
   ]
  },
  {
   "cell_type": "markdown",
   "id": "13e4c3a2",
   "metadata": {},
   "source": [
    "\n",
    "Q2. Why is Python called a dynamically typed language?\n",
    "\n",
    "Python don't have any problem even if we don't declare the type of variable. It states the kind of variable in the runtime of the program. Python also take cares of the memory management which is crucial in programming. So, Python is a dynamically typed language."
   ]
  },
  {
   "cell_type": "markdown",
   "id": "d4025612",
   "metadata": {},
   "source": [
    "Q3. List some pros and cons of Python programming language?\n",
    "\n",
    "Pros:\n",
    "    Python is easy to learn and read\n",
    "    Python enhances productivity\n",
    "    Python is free, open-source, and has a vibrant community\n",
    "    Python is a portable programming language\n",
    "    Python is an interpreted language.\n",
    "    \n",
    "Cons:\n",
    "    Python can have runtime errors\n",
    "    Python consumes a lot of memory space\n",
    "    Python is not easy to test\n",
    "    Python is not so strong with mobile computing\n",
    "    Python has speed limitations."
   ]
  },
  {
   "cell_type": "markdown",
   "id": "1fce036f",
   "metadata": {},
   "source": [
    "Q4. In what all domains can we use Python?\n",
    "\n",
    "Data Science\n",
    "ML and AI\n",
    "Application Development\n",
    "Desktop GUI"
   ]
  },
  {
   "cell_type": "markdown",
   "id": "0ac12eee",
   "metadata": {},
   "source": [
    "Q5. What are variable and how can we declare them?"
   ]
  },
  {
   "cell_type": "code",
   "execution_count": 7,
   "id": "3f70ff00",
   "metadata": {},
   "outputs": [],
   "source": [
    "int_var = 20"
   ]
  },
  {
   "cell_type": "markdown",
   "id": "8ed01116",
   "metadata": {},
   "source": [
    "Here, int_var is a variable which acts as a container to hold the value of Data type"
   ]
  },
  {
   "cell_type": "markdown",
   "id": "5ce32008",
   "metadata": {},
   "source": [
    "Q6. How can we take an input from the user in Python?"
   ]
  },
  {
   "cell_type": "code",
   "execution_count": 17,
   "id": "3dccc8a4",
   "metadata": {},
   "outputs": [
    {
     "name": "stdout",
     "output_type": "stream",
     "text": [
      "Enter the input22\n",
      "22\n"
     ]
    }
   ],
   "source": [
    "user_input = int (input (\"Enter the input\"))\n",
    "print(user_input)"
   ]
  },
  {
   "cell_type": "code",
   "execution_count": null,
   "id": "f184f326",
   "metadata": {},
   "outputs": [],
   "source": []
  }
 ],
 "metadata": {
  "kernelspec": {
   "display_name": "Python 3 (ipykernel)",
   "language": "python",
   "name": "python3"
  },
  "language_info": {
   "codemirror_mode": {
    "name": "ipython",
    "version": 3
   },
   "file_extension": ".py",
   "mimetype": "text/x-python",
   "name": "python",
   "nbconvert_exporter": "python",
   "pygments_lexer": "ipython3",
   "version": "3.9.13"
  }
 },
 "nbformat": 4,
 "nbformat_minor": 5
}

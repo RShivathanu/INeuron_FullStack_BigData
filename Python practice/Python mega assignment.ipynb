{
 "cells": [
  {
   "cell_type": "markdown",
   "id": "5f691be9",
   "metadata": {},
   "source": [
    "# Ineuron Python Assignment-1 (1st week classes)\n",
    "Total 25 Questions"
   ]
  },
  {
   "cell_type": "markdown",
   "id": "53db2db1",
   "metadata": {},
   "source": [
    "# Q1. Why do we call Python as a general purpose and high-level programming language?\n",
    "\n",
    "Because, Python can be used in a wide variety of applications like Data Science, Machine learning, web development etc... \n",
    "Python is an object-oriented, high-level programming language. Object-oriented means this language is based around objects (such as data) rather than functions, and high-level means it's easy for humans to understand."
   ]
  },
  {
   "cell_type": "markdown",
   "id": "a64db8b1",
   "metadata": {},
   "source": [
    "# Q2. Why is Python called a dynamically typed language?\n",
    "\n",
    "Python don't have any problem even if we don't declare the type of variable. It states the kind of variable in the runtime of the program. Python also take cares of the memory management which is crucial in programming. So, Python is a dynamically typed language."
   ]
  },
  {
   "cell_type": "markdown",
   "id": "dde5908e",
   "metadata": {},
   "source": [
    "# Q3. List some pros and cons of Python programming language?\n",
    "\n",
    "Pros:\n",
    "    Python is easy to learn and read\n",
    "    Python enhances productivity\n",
    "    Python is free, open-source, and has a vibrant community\n",
    "    Python is a portable programming language\n",
    "    Python is an interpreted language.\n",
    "    \n",
    "Cons:\n",
    "    Python can have runtime errors\n",
    "    Python consumes a lot of memory space\n",
    "    Python is not easy to test\n",
    "    Python is not so strong with mobile computing\n",
    "    Python has speed limitations."
   ]
  },
  {
   "cell_type": "markdown",
   "id": "9db7d187",
   "metadata": {},
   "source": [
    "# Q4. In what all domains can we use Python?\n",
    "\n",
    "Data Science\n",
    "ML and AI\n",
    "Application Development\n",
    "Desktop GUI"
   ]
  },
  {
   "cell_type": "markdown",
   "id": "895c7fdb",
   "metadata": {},
   "source": [
    "# Q5. What are variable and how can we declare them?"
   ]
  },
  {
   "cell_type": "code",
   "execution_count": 7,
   "id": "8e7941de",
   "metadata": {},
   "outputs": [],
   "source": [
    "int_var = 20"
   ]
  },
  {
   "cell_type": "markdown",
   "id": "416bd047",
   "metadata": {},
   "source": [
    "Here, int_var is a variable which acts as a container to hold the value of Data type"
   ]
  },
  {
   "cell_type": "markdown",
   "id": "a696a36b",
   "metadata": {},
   "source": [
    "# Q6. How can we take an input from the user in Python?"
   ]
  },
  {
   "cell_type": "code",
   "execution_count": 17,
   "id": "e9c27fbd",
   "metadata": {},
   "outputs": [
    {
     "name": "stdout",
     "output_type": "stream",
     "text": [
      "Enter the input22\n",
      "22\n"
     ]
    }
   ],
   "source": [
    "user_input = int (input (\"Enter the input\"))\n",
    "print(user_input)"
   ]
  },
  {
   "cell_type": "markdown",
   "id": "d1a7302a",
   "metadata": {},
   "source": [
    "# Q7. What is the default datatype of the value that has been taken as an input using input() function?"
   ]
  },
  {
   "cell_type": "code",
   "execution_count": 18,
   "id": "67422814",
   "metadata": {},
   "outputs": [
    {
     "name": "stdout",
     "output_type": "stream",
     "text": [
      "<class 'int'>\n"
     ]
    }
   ],
   "source": [
    "print(type(user_input))"
   ]
  },
  {
   "cell_type": "raw",
   "id": "a8f07265",
   "metadata": {},
   "source": [
    "int is the default datatype"
   ]
  },
  {
   "cell_type": "markdown",
   "id": "940291ae",
   "metadata": {},
   "source": [
    "# Q8. What is type casting?\n",
    "    Converting from one datatype to another datatype is called casting. Below is an example for type casting."
   ]
  },
  {
   "cell_type": "code",
   "execution_count": 19,
   "id": "7f1c0bb5",
   "metadata": {},
   "outputs": [
    {
     "name": "stdout",
     "output_type": "stream",
     "text": [
      "22.0\n"
     ]
    }
   ],
   "source": [
    "user_input_float = float(user_input)\n",
    "print(user_input_float)"
   ]
  },
  {
   "cell_type": "markdown",
   "id": "4cd8c63c",
   "metadata": {},
   "source": [
    "# Q9. Can we take more than one input from the user using single input() function? If yes, how? If no, why?"
   ]
  },
  {
   "cell_type": "code",
   "execution_count": 24,
   "id": "8c8e31ad",
   "metadata": {},
   "outputs": [
    {
     "name": "stdout",
     "output_type": "stream",
     "text": [
      "Enter 3 inputs :22 1 33\n",
      "input1 : 22\n",
      "input2 : 1\n",
      "input3 : 33\n"
     ]
    }
   ],
   "source": [
    "# Yes, we can take more than one input from user using split function \n",
    "input1, input2, input3 = input(\"Enter 3 inputs :\").split()\n",
    "print(\"input1 :\",input1)\n",
    "print(\"input2 :\",input2)\n",
    "print(\"input3 :\",input3)"
   ]
  },
  {
   "cell_type": "markdown",
   "id": "e3432c8a",
   "metadata": {},
   "source": [
    "# Q10. What are keywords?"
   ]
  },
  {
   "cell_type": "code",
   "execution_count": 25,
   "id": "40f754af",
   "metadata": {},
   "outputs": [
    {
     "name": "stdout",
     "output_type": "stream",
     "text": [
      "These are the keywords in this version\n",
      "['False', 'None', 'True', '__peg_parser__', 'and', 'as', 'assert', 'async', 'await', 'break', 'class', 'continue', 'def', 'del', 'elif', 'else', 'except', 'finally', 'for', 'from', 'global', 'if', 'import', 'in', 'is', 'lambda', 'nonlocal', 'not', 'or', 'pass', 'raise', 'return', 'try', 'while', 'with', 'yield']\n"
     ]
    }
   ],
   "source": [
    "# Every scripting language has designated words or keywords, with particular definitions and usage guidelines. \n",
    "#  Python is no exception. The fundamental constituent elements of any Python program are Python keywords.\n",
    "import keyword\n",
    "print(\"These are the keywords in this version\")\n",
    "print(keyword.kwlist)"
   ]
  },
  {
   "cell_type": "markdown",
   "id": "720b6ad5",
   "metadata": {},
   "source": [
    "\n",
    "# Q11. Can we use keywords as a variable? Support your answer with reason.\n",
    "\n",
    "Keywords are used to define the syntax of the coding. The keyword cannot be used as an identifier, function, and variable name. All the keywords in python are written in lower case except True and False."
   ]
  },
  {
   "cell_type": "markdown",
   "id": "e14a4aef",
   "metadata": {},
   "source": [
    "# Q12. What is indentation? What's the use of indentaion in Python?\n",
    "\n",
    "Indentation refers to the spaces at the beginning of a code line. Where in other programming languages the indentation in code is for readability only, the indentation in Python is very important. Python uses indentation to indicate a block of code."
   ]
  },
  {
   "cell_type": "markdown",
   "id": "c5a387f1",
   "metadata": {},
   "source": [
    "# Q13. How can we throw some output in Python?\n",
    "\n",
    "The basic way to do output is the print statement."
   ]
  },
  {
   "cell_type": "code",
   "execution_count": 28,
   "id": "e998c5c1",
   "metadata": {},
   "outputs": [
    {
     "name": "stdout",
     "output_type": "stream",
     "text": [
      "22\n"
     ]
    }
   ],
   "source": [
    "print(22)"
   ]
  },
  {
   "cell_type": "markdown",
   "id": "d6d084ed",
   "metadata": {},
   "source": [
    "# Q14. What are operators in Python?\n",
    "\n",
    "In Python, operators are special symbols that designate that some sort of computation should be performed.\n",
    "The values that an operator acts on are called operands.There are 7 types of operator\n",
    "\n",
    "Arithmetic operators\n",
    "Assignment operators\n",
    "Comparison operators\n",
    "Logical operators\n",
    "Identity operators\n",
    "Membership operators\n",
    "Bitwise operators"
   ]
  },
  {
   "cell_type": "code",
   "execution_count": 29,
   "id": "f35c41a4",
   "metadata": {},
   "outputs": [
    {
     "name": "stdout",
     "output_type": "stream",
     "text": [
      "30\n",
      "-10\n",
      "200\n",
      "0.5\n"
     ]
    }
   ],
   "source": [
    "# Arithmetic operators example\n",
    "a = 10\n",
    "b = 20\n",
    "opAdd = a + b\n",
    "opSub = a - b\n",
    "opMul = a * b\n",
    "opDiv = a / b\n",
    "print(opAdd)\n",
    "print(opSub)\n",
    "print(opMul)\n",
    "print(opDiv)\n",
    "\n",
    "# Here +,-,/,* are Arithmetic Operators\n"
   ]
  },
  {
   "cell_type": "code",
   "execution_count": 31,
   "id": "b5f83db6",
   "metadata": {},
   "outputs": [
    {
     "name": "stdout",
     "output_type": "stream",
     "text": [
      "20\n"
     ]
    }
   ],
   "source": [
    "# Assignment operators example\n",
    "a += b\n",
    "print(b)\n",
    "# Here +- is a assignment operator"
   ]
  },
  {
   "cell_type": "markdown",
   "id": "7d01b0b4",
   "metadata": {},
   "source": [
    "# Q15. What is difference between / and // operators?\n",
    "\n",
    "/ is used for floating point number\n",
    "// avoids the fractional part and round of the number into whole number"
   ]
  },
  {
   "cell_type": "code",
   "execution_count": 32,
   "id": "12d8874a",
   "metadata": {},
   "outputs": [
    {
     "name": "stdout",
     "output_type": "stream",
     "text": [
      "2.5\n",
      "2\n"
     ]
    }
   ],
   "source": [
    "print(a/b)\n",
    "print(a//b)"
   ]
  },
  {
   "cell_type": "markdown",
   "id": "8ddf5779",
   "metadata": {},
   "source": [
    "# Q16. Write a code that gives following as an output.\n",
    "\n",
    "    \"iNeuroniNeuroniNeuroniNeuron\""
   ]
  },
  {
   "cell_type": "code",
   "execution_count": 33,
   "id": "fa3f4f86",
   "metadata": {},
   "outputs": [
    {
     "name": "stdout",
     "output_type": "stream",
     "text": [
      "iNeuroniNeuroniNeuroniNeuron\n"
     ]
    }
   ],
   "source": [
    "iNeuron = \"iNeuroniNeuroniNeuroniNeuron\"\n",
    "print(iNeuron)"
   ]
  },
  {
   "cell_type": "markdown",
   "id": "02c7d8f7",
   "metadata": {},
   "source": [
    "# Q17. Write a code to take a number as an input from the user and check if the number is odd or even."
   ]
  },
  {
   "cell_type": "code",
   "execution_count": 37,
   "id": "dbdd06ea",
   "metadata": {},
   "outputs": [
    {
     "name": "stdout",
     "output_type": "stream",
     "text": [
      "Enter the number: 23\n",
      "odd\n"
     ]
    }
   ],
   "source": [
    "numb = int (input(\"Enter the number: \"))\n",
    "if numb%2==0:\n",
    "    print(\"even\")\n",
    "else:\n",
    "    print(\"odd\")"
   ]
  },
  {
   "cell_type": "markdown",
   "id": "deeba7ed",
   "metadata": {},
   "source": [
    "# Q18. What are boolean operator?\n",
    "\n",
    "True and False are 2 operators."
   ]
  },
  {
   "cell_type": "code",
   "execution_count": 40,
   "id": "f8007d0b",
   "metadata": {},
   "outputs": [
    {
     "name": "stdout",
     "output_type": "stream",
     "text": [
      "False\n",
      "True\n",
      "False\n"
     ]
    }
   ],
   "source": [
    "\n",
    "print(2>3)\n",
    "print(5==5)\n",
    "print(10!=10)\n"
   ]
  },
  {
   "cell_type": "markdown",
   "id": "efbd195a",
   "metadata": {},
   "source": [
    "# Q19. What will the output of the following?"
   ]
  },
  {
   "cell_type": "code",
   "execution_count": 48,
   "id": "2470f050",
   "metadata": {},
   "outputs": [
    {
     "data": {
      "text/plain": [
       "1"
      ]
     },
     "execution_count": 48,
     "metadata": {},
     "output_type": "execute_result"
    }
   ],
   "source": [
    "1 or 0"
   ]
  },
  {
   "cell_type": "code",
   "execution_count": 43,
   "id": "30bf0352",
   "metadata": {},
   "outputs": [
    {
     "data": {
      "text/plain": [
       "0"
      ]
     },
     "execution_count": 43,
     "metadata": {},
     "output_type": "execute_result"
    }
   ],
   "source": [
    "0 and 0"
   ]
  },
  {
   "cell_type": "code",
   "execution_count": 44,
   "id": "255a29f4",
   "metadata": {},
   "outputs": [
    {
     "data": {
      "text/plain": [
       "False"
      ]
     },
     "execution_count": 44,
     "metadata": {},
     "output_type": "execute_result"
    }
   ],
   "source": [
    "True and False and True"
   ]
  },
  {
   "cell_type": "code",
   "execution_count": 45,
   "id": "261d9bd2",
   "metadata": {},
   "outputs": [
    {
     "data": {
      "text/plain": [
       "1"
      ]
     },
     "execution_count": 45,
     "metadata": {},
     "output_type": "execute_result"
    }
   ],
   "source": [
    "1 or 0 or 0"
   ]
  },
  {
   "cell_type": "markdown",
   "id": "dcf1f1a6",
   "metadata": {},
   "source": [
    "# Q20. What are conditional statements in Python?\n",
    "\n",
    "It is used to determine whether a block of code will be executed or not. \n",
    "Meaning if the program finds the condition defined in the if statement to be true,\n",
    "it will go ahead and execute the code block inside the if statement."
   ]
  },
  {
   "cell_type": "code",
   "execution_count": 49,
   "id": "fd656f10",
   "metadata": {},
   "outputs": [
    {
     "name": "stdout",
     "output_type": "stream",
     "text": [
      "This is exmaple for if statement\n"
     ]
    }
   ],
   "source": [
    "# If statement is used to check the condition\n",
    "a = 10\n",
    "b = 20\n",
    "if a < b:\n",
    "    print(\"This is exmaple for if statement\")"
   ]
  },
  {
   "cell_type": "code",
   "execution_count": 51,
   "id": "a9d83fd0",
   "metadata": {},
   "outputs": [
    {
     "name": "stdout",
     "output_type": "stream",
     "text": [
      "This is an example for elif statement\n"
     ]
    }
   ],
   "source": [
    "# Elif statement is used in case previous statemnt is false then to check the next statement\n",
    "a = 10\n",
    "b = 20\n",
    "if a > b:\n",
    "    print(\"This is an example for if statement\")\n",
    "elif a < b:\n",
    "    print(\"This is an example for elif statement\")"
   ]
  },
  {
   "cell_type": "code",
   "execution_count": 52,
   "id": "81162d97",
   "metadata": {},
   "outputs": [
    {
     "name": "stdout",
     "output_type": "stream",
     "text": [
      "This is an example for else statement\n"
     ]
    }
   ],
   "source": [
    "# The else keyword catches anything which isn't caught by the preceding conditions\n",
    "a = 10\n",
    "b = 20\n",
    "if a > b:\n",
    "    print(\"This is an example for if statement\")\n",
    "elif a == b:\n",
    "    print(\"This is an example for elif statement\")\n",
    "else:\n",
    "    print(\"This is an example for else statement\")"
   ]
  },
  {
   "cell_type": "markdown",
   "id": "4fcbb801",
   "metadata": {},
   "source": [
    "\n",
    "\n",
    "# Q22. Write a code to take the age of person as an input and if age >= 18 display \"I can vote\". If age is < 18 display \"I can't vote\"."
   ]
  },
  {
   "cell_type": "code",
   "execution_count": 55,
   "id": "a802f529",
   "metadata": {},
   "outputs": [
    {
     "name": "stdout",
     "output_type": "stream",
     "text": [
      "Enter the age :39\n",
      "I can vote\n"
     ]
    }
   ],
   "source": [
    "person_age = int (input(\"Enter the age :\"))\n",
    "if(person_age >= 18):\n",
    "    print(\"I can vote\")\n",
    "else:\n",
    "    print(\"I can't vote\")"
   ]
  },
  {
   "cell_type": "markdown",
   "id": "5f87aa57",
   "metadata": {},
   "source": [
    "# Q23. Write a code that displays the sum of all the even numbers from the given list.\n",
    "```\n",
    "numbers = [12, 75, 150, 180, 145, 525, 50]\n",
    "```"
   ]
  },
  {
   "cell_type": "code",
   "execution_count": 56,
   "id": "c91859c0",
   "metadata": {},
   "outputs": [
    {
     "name": "stdout",
     "output_type": "stream",
     "text": [
      "1137\n"
     ]
    }
   ],
   "source": [
    "numbers = [12, 75, 150, 180, 145, 525, 50]\n",
    "sum = 0\n",
    "for i in numbers:\n",
    "    sum += i\n",
    "print(sum)"
   ]
  },
  {
   "cell_type": "markdown",
   "id": "28a3b726",
   "metadata": {},
   "source": [
    "\n",
    "# Q24. Write a code to take 3 numbers as an input from the user and display the greatest no as output."
   ]
  },
  {
   "cell_type": "code",
   "execution_count": 70,
   "id": "738bb85d",
   "metadata": {},
   "outputs": [
    {
     "name": "stdout",
     "output_type": "stream",
     "text": [
      "Enter 1st number :200\n",
      "Enter 2nd number :300\n",
      "Enter 3rd number :100\n",
      "greatest number is  300\n"
     ]
    }
   ],
   "source": [
    "firstNumber = int (input(\"Enter 1st number :\"))\n",
    "secondNumber = int (input(\"Enter 2nd number :\"))\n",
    "thirdNumber = int (input(\"Enter 3rd number :\"))\n",
    "if firstNumber> secondNumber and firstNumber > thirdNumber:\n",
    "    print(\"greatest number is \",firstNumber)\n",
    "elif secondNumber > firstNumber and secondNumber > thirdNumber:\n",
    "    print(\"greatest number is \",secondNumber)\n",
    "else:\n",
    "    print(\"greatest number is \",thirdNumber)\n",
    "\n"
   ]
  },
  {
   "cell_type": "markdown",
   "id": "1ecbc2a9",
   "metadata": {},
   "source": [
    " # Q25. Write a program to display only those numbers from a list that satisfy the following conditions\n",
    " \n",
    " \n",
    "- The number must be divisible by five\n",
    "\n",
    "- If the number is greater than 150, then skip it and move to the next number\n",
    "\n",
    "- If the number is greater than 500, then stop the loop\n",
    "```\n",
    "numbers = [12, 75, 150, 180, 145, 525, 50]\n",
    "```"
   ]
  },
  {
   "cell_type": "code",
   "execution_count": 1,
   "id": "32a48d81",
   "metadata": {},
   "outputs": [
    {
     "name": "stdout",
     "output_type": "stream",
     "text": [
      "75\n",
      "150\n",
      "145\n",
      "50\n"
     ]
    }
   ],
   "source": [
    "numbers = [12, 75, 150, 180, 145, 525, 50]\n",
    "for i in numbers:\n",
    "    if i%5==0:\n",
    "        if i > 150:\n",
    "            continue\n",
    "            if i > 500:\n",
    "                break\n",
    "        print(i)"
   ]
  },
  {
   "cell_type": "markdown",
   "id": "c5ee402f",
   "metadata": {},
   "source": [
    "# Q26. What is a string? How can we declare string in Python?"
   ]
  },
  {
   "cell_type": "code",
   "execution_count": 82,
   "id": "8ba9d4d0",
   "metadata": {},
   "outputs": [
    {
     "name": "stdout",
     "output_type": "stream",
     "text": [
      "This is a String\n"
     ]
    }
   ],
   "source": [
    "# string is a series of characters. \n",
    "# In Python, anything inside quotes is a string.\n",
    "# And you can use either single or double quotes.\n",
    "string1 = \"This is a String\"\n",
    "print(string1)"
   ]
  },
  {
   "cell_type": "markdown",
   "id": "2877ef9a",
   "metadata": {},
   "source": [
    "# Q27. How can we access the string using its index?"
   ]
  },
  {
   "cell_type": "code",
   "execution_count": 87,
   "id": "7f00b4d3",
   "metadata": {},
   "outputs": [
    {
     "data": {
      "text/plain": [
       "'is a String'"
      ]
     },
     "execution_count": 87,
     "metadata": {},
     "output_type": "execute_result"
    }
   ],
   "source": [
    "string1[0:5] #Using 2 sqaure brackets we can access the index of the string\n"
   ]
  },
  {
   "cell_type": "markdown",
   "id": "8087306f",
   "metadata": {},
   "source": [
    "# Q28. Write a code to get the desired output of the following\n",
    "\n",
    "string = \"Big Data iNeuron\"\n",
    "desired_output = \"iNeuron\""
   ]
  },
  {
   "cell_type": "code",
   "execution_count": 89,
   "id": "67a628d8",
   "metadata": {},
   "outputs": [
    {
     "name": "stdout",
     "output_type": "stream",
     "text": [
      "iNeuron\n"
     ]
    }
   ],
   "source": [
    "string = \"Big Data iNeuron\"\n",
    "desired_output = string[9:]\n",
    "print(desired_output)"
   ]
  },
  {
   "cell_type": "markdown",
   "id": "dc29deb9",
   "metadata": {},
   "source": [
    "# Q29. Write a code to get the desired output of the following\n",
    "string = \"Big Data iNeuron\"\n",
    "desired_output = \"norueNi\""
   ]
  },
  {
   "cell_type": "code",
   "execution_count": 100,
   "id": "6ff6b968",
   "metadata": {},
   "outputs": [
    {
     "name": "stdout",
     "output_type": "stream",
     "text": [
      "norueNi\n"
     ]
    }
   ],
   "source": [
    "string = \"Big Data iNeuron\"\n",
    "desired_output = string[:8:-1]\n",
    "print(desired_output)"
   ]
  },
  {
   "cell_type": "markdown",
   "id": "6d5b4ee9",
   "metadata": {},
   "source": [
    "# Q30. Resverse the string given in the above question."
   ]
  },
  {
   "cell_type": "code",
   "execution_count": 101,
   "id": "6a4ffab2",
   "metadata": {},
   "outputs": [
    {
     "data": {
      "text/plain": [
       "'norueNi ataD giB'"
      ]
     },
     "execution_count": 101,
     "metadata": {},
     "output_type": "execute_result"
    }
   ],
   "source": [
    "string[::-1]"
   ]
  },
  {
   "cell_type": "markdown",
   "id": "c0392989",
   "metadata": {},
   "source": [
    "# Q31. How can you delete entire string at once?"
   ]
  },
  {
   "cell_type": "code",
   "execution_count": 106,
   "id": "8b1ca382",
   "metadata": {},
   "outputs": [
    {
     "data": {
      "text/plain": [
       "'Big Data iNeuron'"
      ]
     },
     "execution_count": 106,
     "metadata": {},
     "output_type": "execute_result"
    }
   ],
   "source": [
    "string = \"Big Data iNeuron\"\n",
    "string"
   ]
  },
  {
   "cell_type": "code",
   "execution_count": 107,
   "id": "23ded9da",
   "metadata": {},
   "outputs": [],
   "source": [
    "del string"
   ]
  },
  {
   "cell_type": "code",
   "execution_count": 108,
   "id": "f2b3330b",
   "metadata": {},
   "outputs": [
    {
     "ename": "NameError",
     "evalue": "name 'string' is not defined",
     "output_type": "error",
     "traceback": [
      "\u001b[1;31m---------------------------------------------------------------------------\u001b[0m",
      "\u001b[1;31mNameError\u001b[0m                                 Traceback (most recent call last)",
      "\u001b[1;32m~\\AppData\\Local\\Temp\\ipykernel_16444\\41168278.py\u001b[0m in \u001b[0;36m<module>\u001b[1;34m\u001b[0m\n\u001b[1;32m----> 1\u001b[1;33m \u001b[0mstring\u001b[0m\u001b[1;33m\u001b[0m\u001b[1;33m\u001b[0m\u001b[0m\n\u001b[0m",
      "\u001b[1;31mNameError\u001b[0m: name 'string' is not defined"
     ]
    }
   ],
   "source": [
    "string"
   ]
  },
  {
   "cell_type": "markdown",
   "id": "5a943777",
   "metadata": {},
   "source": [
    "# Q32. What is escape sequence?"
   ]
  },
  {
   "cell_type": "code",
   "execution_count": 109,
   "id": "c47c505c",
   "metadata": {},
   "outputs": [
    {
     "ename": "SyntaxError",
     "evalue": "invalid syntax (190189097.py, line 4)",
     "output_type": "error",
     "traceback": [
      "\u001b[1;36m  File \u001b[1;32m\"C:\\Users\\shiva\\AppData\\Local\\Temp\\ipykernel_16444\\190189097.py\"\u001b[1;36m, line \u001b[1;32m4\u001b[0m\n\u001b[1;33m    string = \"Big Data \"escape\" iNeuron\"\u001b[0m\n\u001b[1;37m                        ^\u001b[0m\n\u001b[1;31mSyntaxError\u001b[0m\u001b[1;31m:\u001b[0m invalid syntax\n"
     ]
    }
   ],
   "source": [
    "# To insert characters that are illegal in a string, use an escape character.\n",
    "# An escape character is a backslash \\ followed by the character you want to insert.\n",
    "# An example of an illegal character is a double quote inside a string that is surrounded by double quotes:\n",
    "string = \"Big Data \"escape\" iNeuron\""
   ]
  },
  {
   "cell_type": "code",
   "execution_count": 113,
   "id": "bd0cbf7e",
   "metadata": {},
   "outputs": [
    {
     "name": "stdout",
     "output_type": "stream",
     "text": [
      "Big Data \"escape\" iNeuron\n"
     ]
    }
   ],
   "source": [
    "# to overcome this illegal declaration we use escape sequence\n",
    "string = \"Big Data \\\"escape\\\" iNeuron\"\n",
    "print(string)"
   ]
  },
  {
   "cell_type": "markdown",
   "id": "f1e99fcb",
   "metadata": {},
   "source": [
    "# Q33. How can you print the below string?\n",
    "'iNeuron's Big Data Course'"
   ]
  },
  {
   "cell_type": "code",
   "execution_count": 115,
   "id": "e7c06854",
   "metadata": {},
   "outputs": [
    {
     "name": "stdout",
     "output_type": "stream",
     "text": [
      "iNeuron's Big Data Course\n"
     ]
    }
   ],
   "source": [
    "string = \"iNeuron's Big Data Course\"\n",
    "print(string)"
   ]
  },
  {
   "cell_type": "markdown",
   "id": "82b94728",
   "metadata": {},
   "source": [
    "# Q34. What is a list in Python?"
   ]
  },
  {
   "cell_type": "code",
   "execution_count": 118,
   "id": "b7044578",
   "metadata": {},
   "outputs": [],
   "source": [
    "# Lists are one of 4 built-in data types in Python used to store collections of data.\n",
    "# Lists are used to store multiple items in a single variable."
   ]
  },
  {
   "cell_type": "markdown",
   "id": "26ccbd6b",
   "metadata": {},
   "source": [
    "# Q35. How can you create a list in Python?"
   ]
  },
  {
   "cell_type": "code",
   "execution_count": 119,
   "id": "d4574df8",
   "metadata": {},
   "outputs": [
    {
     "name": "stdout",
     "output_type": "stream",
     "text": [
      "['lists', 'dictionaries', 'tuple', 'sets']\n"
     ]
    }
   ],
   "source": [
    "data_types = [\"lists\",\"dictionaries\",\"tuple\",\"sets\"]\n",
    "print(data_types)"
   ]
  },
  {
   "cell_type": "markdown",
   "id": "7b44304f",
   "metadata": {},
   "source": [
    "# Q36. How can we access the elements in a list?"
   ]
  },
  {
   "cell_type": "code",
   "execution_count": 121,
   "id": "2b3d6d28",
   "metadata": {},
   "outputs": [
    {
     "data": {
      "text/plain": [
       "['lists', 'dictionaries', 'tuple', 'sets']"
      ]
     },
     "execution_count": 121,
     "metadata": {},
     "output_type": "execute_result"
    }
   ],
   "source": [
    "data_types[0:]"
   ]
  },
  {
   "cell_type": "markdown",
   "id": "a7904b3f",
   "metadata": {},
   "source": [
    "# Q37. Write a code to access the word \"iNeuron\" from the given list.\n",
    "lst = [1,2,3,\"Hi\",[45,54, \"iNeuron\"], \"Big Data\"]"
   ]
  },
  {
   "cell_type": "code",
   "execution_count": 128,
   "id": "46ece9dc",
   "metadata": {},
   "outputs": [
    {
     "name": "stdout",
     "output_type": "stream",
     "text": [
      "iNeuron\n"
     ]
    }
   ],
   "source": [
    "lst = [1,2,3,\"Hi\",[45,54, \"iNeuron\"], \"Big Data\"]\n",
    "print(lst[4][2])"
   ]
  },
  {
   "cell_type": "markdown",
   "id": "540a8566",
   "metadata": {},
   "source": [
    "# Q38. Take a list as an input from the user and find the length of the list."
   ]
  },
  {
   "cell_type": "code",
   "execution_count": 146,
   "id": "b969e104",
   "metadata": {},
   "outputs": [
    {
     "name": "stdout",
     "output_type": "stream",
     "text": [
      "Enter the list 12345678\n",
      "<class 'list'>\n",
      "['1', '2', '3', '4', '5', '6', '7', '8']\n"
     ]
    }
   ],
   "source": [
    "lst = list (input(\"Enter the list \"))\n",
    "print(type(lst))\n",
    "print(lst)"
   ]
  },
  {
   "cell_type": "markdown",
   "id": "3b2c0e9a",
   "metadata": {},
   "source": [
    "# Q39. Add the word \"Big\" in the 3rd index of the given list.\n",
    "lst = [\"Welcome\", \"to\", \"Data\", \"course\"]"
   ]
  },
  {
   "cell_type": "code",
   "execution_count": 152,
   "id": "79916782",
   "metadata": {},
   "outputs": [],
   "source": [
    "lst = [\"Welcome\", \"to\", \"Data\", \"course\"]"
   ]
  },
  {
   "cell_type": "code",
   "execution_count": 154,
   "id": "68820c8a",
   "metadata": {},
   "outputs": [],
   "source": [
    "lst.insert(2,\"Big\")"
   ]
  },
  {
   "cell_type": "code",
   "execution_count": 155,
   "id": "3ed01abc",
   "metadata": {},
   "outputs": [
    {
     "data": {
      "text/plain": [
       "['Welcome', 'to', 'Big', 'Data', 'course']"
      ]
     },
     "execution_count": 155,
     "metadata": {},
     "output_type": "execute_result"
    }
   ],
   "source": [
    "lst"
   ]
  },
  {
   "cell_type": "markdown",
   "id": "02aeb1a9",
   "metadata": {},
   "source": [
    "# Q40. What is a tuple? How is it different from list?"
   ]
  },
  {
   "cell_type": "markdown",
   "id": "b3c15951",
   "metadata": {},
   "source": [
    "List and Tuple in Python are the classes of Python Data Structures.\n",
    "The list is dynamic, whereas the tuple has static characteristics. \n",
    "This means that lists can be modified whereas tuples cannot be modified, the tuple is faster than the list because of static in nature. \n",
    "Lists are denoted by the square brackets but tuples are denoted as parenthesis."
   ]
  },
  {
   "cell_type": "markdown",
   "id": "a07afc0a",
   "metadata": {},
   "source": [
    "# Q41. How can you create a tuple in Python?"
   ]
  },
  {
   "cell_type": "code",
   "execution_count": 158,
   "id": "b4aeb64d",
   "metadata": {},
   "outputs": [],
   "source": [
    "tuples_exmp = (100,\"python\",\"200.0\")"
   ]
  },
  {
   "cell_type": "code",
   "execution_count": 159,
   "id": "30af7191",
   "metadata": {},
   "outputs": [
    {
     "data": {
      "text/plain": [
       "(100, 'python', '200.0')"
      ]
     },
     "execution_count": 159,
     "metadata": {},
     "output_type": "execute_result"
    }
   ],
   "source": [
    "tuples_exmp"
   ]
  },
  {
   "cell_type": "markdown",
   "id": "fff444f2",
   "metadata": {},
   "source": [
    "# Q42. Create a tuple and try to add your name in the tuple. Are you able to do it? Support your answer with reason"
   ]
  },
  {
   "cell_type": "code",
   "execution_count": 169,
   "id": "136b415d",
   "metadata": {},
   "outputs": [
    {
     "ename": "AttributeError",
     "evalue": "'tuple' object has no attribute 'add'",
     "output_type": "error",
     "traceback": [
      "\u001b[1;31m---------------------------------------------------------------------------\u001b[0m",
      "\u001b[1;31mAttributeError\u001b[0m                            Traceback (most recent call last)",
      "\u001b[1;32m~\\AppData\\Local\\Temp\\ipykernel_16444\\3124879665.py\u001b[0m in \u001b[0;36m<module>\u001b[1;34m\u001b[0m\n\u001b[0;32m      1\u001b[0m \u001b[0mmy_name\u001b[0m \u001b[1;33m=\u001b[0m \u001b[1;33m(\u001b[0m\u001b[1;33m)\u001b[0m\u001b[1;33m\u001b[0m\u001b[1;33m\u001b[0m\u001b[0m\n\u001b[1;32m----> 2\u001b[1;33m \u001b[0mmy_name\u001b[0m\u001b[1;33m.\u001b[0m\u001b[0madd\u001b[0m\u001b[1;33m(\u001b[0m\u001b[1;34m\"shiva\"\u001b[0m\u001b[1;33m)\u001b[0m\u001b[1;33m\u001b[0m\u001b[1;33m\u001b[0m\u001b[0m\n\u001b[0m",
      "\u001b[1;31mAttributeError\u001b[0m: 'tuple' object has no attribute 'add'"
     ]
    }
   ],
   "source": [
    "my_name = ()\n",
    "my_name.add(\"shiva\")\n",
    "# No, I'm unable to add my name in tuple"
   ]
  },
  {
   "cell_type": "markdown",
   "id": "eb8aff3a",
   "metadata": {},
   "source": [
    "# Q43. Can two tuple be appended. If yes, write a code for it. If not, why?"
   ]
  },
  {
   "cell_type": "code",
   "execution_count": 172,
   "id": "26fc2a8c",
   "metadata": {},
   "outputs": [
    {
     "name": "stdout",
     "output_type": "stream",
     "text": [
      "('mango', 'orange', 'apple', 'cherry', 'grapes', 'kiwi')\n"
     ]
    }
   ],
   "source": [
    "fst_tuple = (\"mango\",\"orange\",\"apple\")\n",
    "scnd_tuple = (\"cherry\",\"grapes\",\"kiwi\")\n",
    "trd_tuple = fst_tuple + scnd_tuple\n",
    "print(trd_tuple)\n",
    "# Hence proved 2 tuples can be appended"
   ]
  },
  {
   "cell_type": "markdown",
   "id": "6e7a8aba",
   "metadata": {},
   "source": [
    "# Q44. Take a tuple as an input and print the count of elements in it."
   ]
  },
  {
   "cell_type": "code",
   "execution_count": 173,
   "id": "6e3b793a",
   "metadata": {},
   "outputs": [
    {
     "name": "stdout",
     "output_type": "stream",
     "text": [
      "Enter the tuple 10 20 30 40\n"
     ]
    }
   ],
   "source": [
    "inp_tuple = tuple(input(\"Enter the tuple \"))"
   ]
  },
  {
   "cell_type": "code",
   "execution_count": 176,
   "id": "a673e286",
   "metadata": {},
   "outputs": [
    {
     "data": {
      "text/plain": [
       "tuple"
      ]
     },
     "execution_count": 176,
     "metadata": {},
     "output_type": "execute_result"
    }
   ],
   "source": [
    "type(inp_tuple)"
   ]
  },
  {
   "cell_type": "code",
   "execution_count": 177,
   "id": "1e5b09e4",
   "metadata": {},
   "outputs": [
    {
     "data": {
      "text/plain": [
       "('1', '0', ' ', '2', '0', ' ', '3', '0', ' ', '4', '0')"
      ]
     },
     "execution_count": 177,
     "metadata": {},
     "output_type": "execute_result"
    }
   ],
   "source": [
    "inp_tuple"
   ]
  },
  {
   "cell_type": "code",
   "execution_count": null,
   "id": "e96e97f9",
   "metadata": {},
   "outputs": [],
   "source": []
  },
  {
   "cell_type": "markdown",
   "id": "9b3d2814",
   "metadata": {},
   "source": [
    "# Q45. What are sets in Python?"
   ]
  },
  {
   "cell_type": "markdown",
   "id": "c115ad01",
   "metadata": {},
   "source": [
    "Sets are used to store multiple items in a single variable.\n",
    "A set is a collection which is unordered, unchangeable*, and unindexed."
   ]
  },
  {
   "cell_type": "markdown",
   "id": "0fb603d9",
   "metadata": {},
   "source": [
    "# Q46. How can you create a set?"
   ]
  },
  {
   "cell_type": "code",
   "execution_count": 179,
   "id": "8763da6b",
   "metadata": {},
   "outputs": [],
   "source": [
    "create_set = {100,\"praveen\",400.20}"
   ]
  },
  {
   "cell_type": "code",
   "execution_count": 180,
   "id": "c066d3fa",
   "metadata": {},
   "outputs": [
    {
     "data": {
      "text/plain": [
       "{100, 400.2, 'praveen'}"
      ]
     },
     "execution_count": 180,
     "metadata": {},
     "output_type": "execute_result"
    }
   ],
   "source": [
    "create_set"
   ]
  },
  {
   "cell_type": "markdown",
   "id": "d15b5ed1",
   "metadata": {},
   "source": [
    "# Q47. Create a set and add \"iNeuron\" in your set."
   ]
  },
  {
   "cell_type": "code",
   "execution_count": 189,
   "id": "f43115a4",
   "metadata": {},
   "outputs": [
    {
     "data": {
      "text/plain": [
       "set"
      ]
     },
     "execution_count": 189,
     "metadata": {},
     "output_type": "execute_result"
    }
   ],
   "source": [
    "my_set = set()\n",
    "type(my_set)"
   ]
  },
  {
   "cell_type": "code",
   "execution_count": 196,
   "id": "f9694aec",
   "metadata": {},
   "outputs": [],
   "source": [
    "my_set.add(\"iNeuron\")"
   ]
  },
  {
   "cell_type": "code",
   "execution_count": 197,
   "id": "255ac8fe",
   "metadata": {},
   "outputs": [
    {
     "data": {
      "text/plain": [
       "{'iNeuron'}"
      ]
     },
     "execution_count": 197,
     "metadata": {},
     "output_type": "execute_result"
    }
   ],
   "source": [
    "my_set"
   ]
  },
  {
   "cell_type": "markdown",
   "id": "aaf3c7c7",
   "metadata": {},
   "source": [
    "# Q48. Try to add multiple values using add() function."
   ]
  },
  {
   "cell_type": "code",
   "execution_count": 198,
   "id": "48c61be7",
   "metadata": {},
   "outputs": [
    {
     "ename": "TypeError",
     "evalue": "set.add() takes exactly one argument (3 given)",
     "output_type": "error",
     "traceback": [
      "\u001b[1;31m---------------------------------------------------------------------------\u001b[0m",
      "\u001b[1;31mTypeError\u001b[0m                                 Traceback (most recent call last)",
      "\u001b[1;32m~\\AppData\\Local\\Temp\\ipykernel_16444\\3691656150.py\u001b[0m in \u001b[0;36m<module>\u001b[1;34m\u001b[0m\n\u001b[1;32m----> 1\u001b[1;33m \u001b[0mmy_set\u001b[0m\u001b[1;33m.\u001b[0m\u001b[0madd\u001b[0m\u001b[1;33m(\u001b[0m\u001b[1;34m\"Big\"\u001b[0m\u001b[1;33m,\u001b[0m\u001b[1;34m\"Data\"\u001b[0m\u001b[1;33m,\u001b[0m\u001b[1;34m\"course\"\u001b[0m\u001b[1;33m)\u001b[0m\u001b[1;33m\u001b[0m\u001b[1;33m\u001b[0m\u001b[0m\n\u001b[0m",
      "\u001b[1;31mTypeError\u001b[0m: set.add() takes exactly one argument (3 given)"
     ]
    }
   ],
   "source": [
    "my_set.add(\"Big\",\"Data\",\"course\")"
   ]
  },
  {
   "cell_type": "markdown",
   "id": "c97c8089",
   "metadata": {},
   "source": [
    "# Q49. How is update() different from add()?"
   ]
  },
  {
   "cell_type": "code",
   "execution_count": 204,
   "id": "981a5670",
   "metadata": {},
   "outputs": [
    {
     "name": "stdout",
     "output_type": "stream",
     "text": [
      "{'iNeuron', 'Python'}\n"
     ]
    }
   ],
   "source": [
    "# add() method is used to add one item in the set.\n",
    "# update() method is used to add multiple item in the set.\n",
    "my_set.add(\"Python\")\n",
    "print(my_set)"
   ]
  },
  {
   "cell_type": "code",
   "execution_count": 206,
   "id": "2adf46f2",
   "metadata": {},
   "outputs": [
    {
     "ename": "TypeError",
     "evalue": "set.add() takes exactly one argument (3 given)",
     "output_type": "error",
     "traceback": [
      "\u001b[1;31m---------------------------------------------------------------------------\u001b[0m",
      "\u001b[1;31mTypeError\u001b[0m                                 Traceback (most recent call last)",
      "\u001b[1;32m~\\AppData\\Local\\Temp\\ipykernel_16444\\1730619589.py\u001b[0m in \u001b[0;36m<module>\u001b[1;34m\u001b[0m\n\u001b[1;32m----> 1\u001b[1;33m \u001b[0mmy_set\u001b[0m\u001b[1;33m.\u001b[0m\u001b[0madd\u001b[0m\u001b[1;33m(\u001b[0m\u001b[1;34m\"big\"\u001b[0m\u001b[1;33m,\u001b[0m\u001b[1;34m\"course\"\u001b[0m\u001b[1;33m,\u001b[0m\u001b[1;34m\"data\"\u001b[0m\u001b[1;33m)\u001b[0m\u001b[1;33m\u001b[0m\u001b[1;33m\u001b[0m\u001b[0m\n\u001b[0m",
      "\u001b[1;31mTypeError\u001b[0m: set.add() takes exactly one argument (3 given)"
     ]
    }
   ],
   "source": [
    "my_set.add(\"big\",\"course\",\"data\")"
   ]
  },
  {
   "cell_type": "code",
   "execution_count": 221,
   "id": "26c392fb",
   "metadata": {},
   "outputs": [],
   "source": [
    "updated_set = {\"Big\",\"Data\",\"Course\"}"
   ]
  },
  {
   "cell_type": "code",
   "execution_count": 224,
   "id": "c7deb9af",
   "metadata": {},
   "outputs": [
    {
     "data": {
      "text/plain": [
       "{'Big', 'Course', 'Data', 'iNeuron', 'python'}"
      ]
     },
     "execution_count": 224,
     "metadata": {},
     "output_type": "execute_result"
    }
   ],
   "source": [
    "my_set.update(updated_set)\n",
    "my_set"
   ]
  },
  {
   "cell_type": "markdown",
   "id": "181dcff3",
   "metadata": {},
   "source": [
    "# Q50. What is clear() in sets?"
   ]
  },
  {
   "cell_type": "code",
   "execution_count": 226,
   "id": "a3bce34d",
   "metadata": {},
   "outputs": [
    {
     "data": {
      "text/plain": [
       "set()"
      ]
     },
     "execution_count": 226,
     "metadata": {},
     "output_type": "execute_result"
    }
   ],
   "source": [
    "my_set.clear()\n",
    "my_set"
   ]
  },
  {
   "cell_type": "markdown",
   "id": "529f3754",
   "metadata": {},
   "source": [
    "# Q51. What is frozen set?"
   ]
  },
  {
   "cell_type": "markdown",
   "id": "bcf779d2",
   "metadata": {},
   "source": [
    "It creates an immutable Set object from an iterable. \n",
    "It is a built-in Python function.\n",
    "As it is a set object therefore we cannot have duplicate values in the frozenset."
   ]
  },
  {
   "cell_type": "markdown",
   "id": "9151df64",
   "metadata": {},
   "source": [
    "# Q52. How is frozen set different from set?"
   ]
  },
  {
   "cell_type": "markdown",
   "id": "0f24e9ec",
   "metadata": {},
   "source": [
    "Frozenet :\n",
    "    A frozenset is an unordered and unindexed collection of unique elements.\n",
    "It is immutable and it is hashable.\n",
    "It is also called an immutable set.\n",
    "Since the elements are fixed, unlike sets you can't add or remove elements from the set.\n",
    "\n",
    "Set:\n",
    "    A set is an unordered and unindexed collection of unique elements. \n",
    "Sets are mutable, you can change the elements using a built-in function like add(), remove(), etc.\n",
    "Since the elements are mutable and not in order, they don’t have hash values. \n",
    "So you can’t access the elements with the help of index numbers."
   ]
  },
  {
   "cell_type": "markdown",
   "id": "d16ccc5b",
   "metadata": {},
   "source": [
    "# Q53. What is union() in sets? Explain via code."
   ]
  },
  {
   "cell_type": "code",
   "execution_count": 228,
   "id": "b5b681cd",
   "metadata": {},
   "outputs": [
    {
     "data": {
      "text/plain": [
       "{'akshar', 'hyder', 'naresh', 'naveen', 'nikhil'}"
      ]
     },
     "execution_count": 228,
     "metadata": {},
     "output_type": "execute_result"
    }
   ],
   "source": [
    "# Return a set that contains all items from both sets, duplicates are excluded:\n",
    "batch1 = {\"akshar\",\"naresh\",\"naveen\"}\n",
    "batch2 = {\"nikhil\",\"hyder\",\"naresh\"} #\"naresh is duplicate here. So, it is excluded.\"\n",
    "batch1.union(batch2)"
   ]
  },
  {
   "cell_type": "markdown",
   "id": "95645d36",
   "metadata": {},
   "source": [
    "# Q54. What is intersection() in sets? Explain via code."
   ]
  },
  {
   "cell_type": "code",
   "execution_count": 229,
   "id": "1791996e",
   "metadata": {},
   "outputs": [
    {
     "data": {
      "text/plain": [
       "{'naresh'}"
      ]
     },
     "execution_count": 229,
     "metadata": {},
     "output_type": "execute_result"
    }
   ],
   "source": [
    "# It returns a set that contains items exists from both sets\n",
    "batch1.intersection(batch2) #\"naresh\" is exists in both sets"
   ]
  },
  {
   "cell_type": "markdown",
   "id": "36d0fdfe",
   "metadata": {},
   "source": [
    "# Q55. What is dictionary in Python?"
   ]
  },
  {
   "cell_type": "markdown",
   "id": "fdced60e",
   "metadata": {},
   "source": [
    "Dictionaries are used to store the data in key value pair.\n",
    "It is ordered and unindexed data structure in python\n",
    "It can be changed after creating.\n",
    "It doesnot allow duplicates."
   ]
  },
  {
   "cell_type": "markdown",
   "id": "8c1fbff8",
   "metadata": {},
   "source": [
    "# Q56. How is dictionary different from all other data structures."
   ]
  },
  {
   "cell_type": "markdown",
   "id": "0ab35456",
   "metadata": {},
   "source": [
    "Dictionaries uses Key value pair to store the data.\n",
    "While other data structures use different way."
   ]
  },
  {
   "cell_type": "markdown",
   "id": "1101effa",
   "metadata": {},
   "source": [
    "# Q57. How can we delare a dictionary in Python?"
   ]
  },
  {
   "cell_type": "code",
   "execution_count": 230,
   "id": "f85aeb27",
   "metadata": {},
   "outputs": [],
   "source": [
    "# Using two braces we can create dictionary {}\n",
    "my_dict = {5:\"iNeuron\",6:\"Big\"}"
   ]
  },
  {
   "cell_type": "code",
   "execution_count": 232,
   "id": "7d2d3e07",
   "metadata": {},
   "outputs": [
    {
     "data": {
      "text/plain": [
       "'iNeuron'"
      ]
     },
     "execution_count": 232,
     "metadata": {},
     "output_type": "execute_result"
    }
   ],
   "source": [
    "my_dict[5]"
   ]
  },
  {
   "cell_type": "markdown",
   "id": "4a6e75b7",
   "metadata": {},
   "source": [
    "# Q58. What will the output of the following?\n",
    "\n",
    "var = {}\n",
    "print(type(var))"
   ]
  },
  {
   "cell_type": "code",
   "execution_count": 233,
   "id": "69816c7e",
   "metadata": {},
   "outputs": [
    {
     "name": "stdout",
     "output_type": "stream",
     "text": [
      "<class 'dict'>\n"
     ]
    }
   ],
   "source": [
    "var = {}\n",
    "print(type(var))"
   ]
  },
  {
   "cell_type": "markdown",
   "id": "1ca901bf",
   "metadata": {},
   "source": [
    "# Q59. How can we add an element in a dictionary?"
   ]
  },
  {
   "cell_type": "code",
   "execution_count": 241,
   "id": "682bbd75",
   "metadata": {},
   "outputs": [],
   "source": [
    "# By assigning\n",
    "my_dict[8] = \"Python\"\n",
    "\n",
    "# Using update method \n",
    "my_dict.update({7:\"course\"})"
   ]
  },
  {
   "cell_type": "code",
   "execution_count": 246,
   "id": "6963f661",
   "metadata": {},
   "outputs": [
    {
     "data": {
      "text/plain": [
       "{5: 'iNeuron', 6: 'Big', 7: 'course', 8: 'Python'}"
      ]
     },
     "execution_count": 246,
     "metadata": {},
     "output_type": "execute_result"
    }
   ],
   "source": [
    "my_dict"
   ]
  },
  {
   "cell_type": "markdown",
   "id": "b30fdf40",
   "metadata": {},
   "source": [
    "# Q60. Create a dictionary and access all the values in that dictionary."
   ]
  },
  {
   "cell_type": "code",
   "execution_count": 252,
   "id": "aecbc296",
   "metadata": {},
   "outputs": [
    {
     "name": "stdout",
     "output_type": "stream",
     "text": [
      "dict_items([(5, 'iNeuron'), (6, 'Big'), (7, 'course'), (8, 'Python')])\n"
     ]
    }
   ],
   "source": [
    "# I have created my_dict dictionary already for the above example\n",
    "print(my_dict.items())"
   ]
  },
  {
   "cell_type": "markdown",
   "id": "7c3b9e54",
   "metadata": {},
   "source": [
    "# Q61. Create a nested dictionary and access all the element in the inner dictionary."
   ]
  },
  {
   "cell_type": "code",
   "execution_count": 259,
   "id": "8bac0bf5",
   "metadata": {},
   "outputs": [
    {
     "name": "stdout",
     "output_type": "stream",
     "text": [
      "dict_items([('team1', {'name': 'CSK', 'tropies': 4}), ('team2', {'name': 'MI', 'tropies': 5})])\n"
     ]
    }
   ],
   "source": [
    "dict_ipl = {\n",
    "    \"team1\" : {\n",
    "        \"name\":\"CSK\",\"tropies\": 4},\n",
    "    \"team2\" : {\n",
    "        \"name\":\"MI\",\"tropies\":5}\n",
    "}\n",
    "print(dict_ipl.items())"
   ]
  },
  {
   "cell_type": "markdown",
   "id": "2124da64",
   "metadata": {},
   "source": [
    "# Q62. What is the use of get() function?"
   ]
  },
  {
   "cell_type": "code",
   "execution_count": 281,
   "id": "4eef47d2",
   "metadata": {},
   "outputs": [
    {
     "data": {
      "text/plain": [
       "{'name': 'CSK', 'tropies': 4}"
      ]
     },
     "execution_count": 281,
     "metadata": {},
     "output_type": "execute_result"
    }
   ],
   "source": [
    "# The get() method returns the value of the item with the specified key.\n",
    "dict_ipl.get(\"team1\")"
   ]
  },
  {
   "cell_type": "markdown",
   "id": "8cf372cc",
   "metadata": {},
   "source": [
    "# Q63. What is the use of items() function?"
   ]
  },
  {
   "cell_type": "code",
   "execution_count": 282,
   "id": "021b9223",
   "metadata": {},
   "outputs": [
    {
     "data": {
      "text/plain": [
       "dict_items([('team1', {'name': 'CSK', 'tropies': 4}), ('team2', {'name': 'MI', 'tropies': 5})])"
      ]
     },
     "execution_count": 282,
     "metadata": {},
     "output_type": "execute_result"
    }
   ],
   "source": [
    "# Return the dictionary's key-value pairs:\n",
    "dict_ipl.items()"
   ]
  },
  {
   "cell_type": "markdown",
   "id": "30b6284f",
   "metadata": {},
   "source": [
    "Q64. What is the use of pop() function?"
   ]
  },
  {
   "cell_type": "code",
   "execution_count": 286,
   "id": "bb486ba7",
   "metadata": {},
   "outputs": [
    {
     "data": {
      "text/plain": [
       "'grapes'"
      ]
     },
     "execution_count": 286,
     "metadata": {},
     "output_type": "execute_result"
    }
   ],
   "source": [
    "# Removes the element with the specified key\n",
    "fruits_basket = {1:\"apple\",2:\"orange\",3:\"grapes\",5:\"cherry\"}\n",
    "fruits_basket.pop(3) # removed key 3"
   ]
  },
  {
   "cell_type": "code",
   "execution_count": 287,
   "id": "84d32c2d",
   "metadata": {},
   "outputs": [
    {
     "data": {
      "text/plain": [
       "{1: 'apple', 2: 'orange', 5: 'cherry'}"
      ]
     },
     "execution_count": 287,
     "metadata": {},
     "output_type": "execute_result"
    }
   ],
   "source": [
    "fruits_basket"
   ]
  },
  {
   "cell_type": "markdown",
   "id": "4e20369c",
   "metadata": {},
   "source": [
    "# Q65. What is the use of popitems() function?"
   ]
  },
  {
   "cell_type": "code",
   "execution_count": 290,
   "id": "241fa4ca",
   "metadata": {},
   "outputs": [
    {
     "data": {
      "text/plain": [
       "{1: 'apple', 2: 'orange', 5: 'cherry', 6: 'Watermelon'}"
      ]
     },
     "execution_count": 290,
     "metadata": {},
     "output_type": "execute_result"
    }
   ],
   "source": [
    "# popitem() is used to remove the last item inserted.\n",
    "fruits_basket[6] = \"Watermelon\"\n",
    "fruits_basket"
   ]
  },
  {
   "cell_type": "code",
   "execution_count": 292,
   "id": "2a43a374",
   "metadata": {},
   "outputs": [
    {
     "data": {
      "text/plain": [
       "(6, 'Watermelon')"
      ]
     },
     "execution_count": 292,
     "metadata": {},
     "output_type": "execute_result"
    }
   ],
   "source": [
    "fruits_basket.popitem()"
   ]
  },
  {
   "cell_type": "markdown",
   "id": "8805df0c",
   "metadata": {},
   "source": [
    "# Q66. What is the use of keys() function?"
   ]
  },
  {
   "cell_type": "code",
   "execution_count": 293,
   "id": "9c5c2d95",
   "metadata": {},
   "outputs": [
    {
     "data": {
      "text/plain": [
       "dict_keys([1, 2, 5])"
      ]
     },
     "execution_count": 293,
     "metadata": {},
     "output_type": "execute_result"
    }
   ],
   "source": [
    "# Returns a list containing the dictionary's keys\n",
    "fruits_basket.keys()"
   ]
  },
  {
   "cell_type": "markdown",
   "id": "79e000d4",
   "metadata": {},
   "source": [
    "# Q67. What is the use of values() function?"
   ]
  },
  {
   "cell_type": "code",
   "execution_count": 294,
   "id": "470a85c5",
   "metadata": {},
   "outputs": [
    {
     "data": {
      "text/plain": [
       "dict_values(['apple', 'orange', 'cherry'])"
      ]
     },
     "execution_count": 294,
     "metadata": {},
     "output_type": "execute_result"
    }
   ],
   "source": [
    "# Returns a list of all the values in the dictionary\n",
    "fruits_basket.values()"
   ]
  },
  {
   "cell_type": "markdown",
   "id": "a35f7431",
   "metadata": {},
   "source": [
    "# Q68. What are loops in Python?\n"
   ]
  },
  {
   "cell_type": "markdown",
   "id": "e309fd4e",
   "metadata": {},
   "source": [
    "Loops are used to execute the block of codes repeatedly until the condition becomes satisfied."
   ]
  },
  {
   "cell_type": "markdown",
   "id": "2fdd9cc4",
   "metadata": {},
   "source": [
    "# Q69. How many type of loop are there in Python?"
   ]
  },
  {
   "cell_type": "markdown",
   "id": "1c177af9",
   "metadata": {},
   "source": [
    "There are 2 types\n",
    "1. for loop\n",
    "2. while loop"
   ]
  },
  {
   "cell_type": "markdown",
   "id": "1bcb152e",
   "metadata": {},
   "source": [
    "# Q70. What is the difference between for and while loops?"
   ]
  },
  {
   "cell_type": "markdown",
   "id": "a2a3eb87",
   "metadata": {},
   "source": [
    "For loop is used when we know how many iterations should executed\n",
    "while loop is used when we dont know how many iterations should executed"
   ]
  },
  {
   "cell_type": "markdown",
   "id": "c6e25f95",
   "metadata": {},
   "source": [
    "# Q71. What is the use of continue statement?"
   ]
  },
  {
   "cell_type": "markdown",
   "id": "7354f994",
   "metadata": {},
   "source": [
    "Continue statement is used to stop the current iteration and continue with the next."
   ]
  },
  {
   "cell_type": "markdown",
   "id": "433a2838",
   "metadata": {},
   "source": [
    "# Q72. What is the use of break statement?"
   ]
  },
  {
   "cell_type": "markdown",
   "id": "a6e38f60",
   "metadata": {},
   "source": [
    "It is used to stop the loop even if the condition is true"
   ]
  },
  {
   "cell_type": "markdown",
   "id": "4b8416b2",
   "metadata": {},
   "source": [
    "# Q73. What is the use of pass statement?"
   ]
  },
  {
   "cell_type": "markdown",
   "id": "3c6fca11",
   "metadata": {},
   "source": [
    "It is used when a statement is required syntactically but you do not want any command or code to execute. The pass statement is a null operation."
   ]
  },
  {
   "cell_type": "markdown",
   "id": "04b53e58",
   "metadata": {},
   "source": [
    "# Q74. What is the use of range() function?"
   ]
  },
  {
   "cell_type": "markdown",
   "id": "30a01ca7",
   "metadata": {},
   "source": [
    "The range function returns the sequence of numbers starting from 0(default) and increments by 1(default)\n",
    "Syntax : range(5)"
   ]
  },
  {
   "cell_type": "code",
   "execution_count": 300,
   "id": "9b90b2b8",
   "metadata": {},
   "outputs": [
    {
     "data": {
      "text/plain": [
       "range(0, 6)"
      ]
     },
     "execution_count": 300,
     "metadata": {},
     "output_type": "execute_result"
    }
   ],
   "source": [
    "range(6)"
   ]
  },
  {
   "cell_type": "markdown",
   "id": "d1b176ec",
   "metadata": {},
   "source": [
    "# Q75. How can you loop over a dictionary?"
   ]
  },
  {
   "cell_type": "code",
   "execution_count": 304,
   "id": "f4f41bb0",
   "metadata": {},
   "outputs": [
    {
     "name": "stdout",
     "output_type": "stream",
     "text": [
      "(1, 'apple')\n",
      "(2, 'orange')\n",
      "(5, 'cherry')\n"
     ]
    }
   ],
   "source": [
    "for i in fruits_basket.items():\n",
    "    print(i)"
   ]
  },
  {
   "cell_type": "markdown",
   "id": "4c6bb7cc",
   "metadata": {},
   "source": [
    "# Coding problems"
   ]
  },
  {
   "cell_type": "markdown",
   "id": "be9cc96c",
   "metadata": {},
   "source": [
    "# Q76. Write a Python program to find the factorial of a given number."
   ]
  },
  {
   "cell_type": "code",
   "execution_count": 267,
   "id": "7963d553",
   "metadata": {},
   "outputs": [
    {
     "name": "stdout",
     "output_type": "stream",
     "text": [
      "Enter the number 5\n",
      "120\n"
     ]
    }
   ],
   "source": [
    "fact_num =int (input(\"Enter the number \"))\n",
    "facti = 1\n",
    "for i in range(1,fact_num+1):\n",
    "    facti *= i\n",
    "print(facti)"
   ]
  },
  {
   "cell_type": "markdown",
   "id": "26f85f44",
   "metadata": {},
   "source": [
    "# Q77. Write a Python program to calculate the simple interest. Formula to calculate simple interest is SI = (PRT)/100"
   ]
  },
  {
   "cell_type": "code",
   "execution_count": 270,
   "id": "b6f589dc",
   "metadata": {},
   "outputs": [
    {
     "name": "stdout",
     "output_type": "stream",
     "text": [
      "Enter the Principal 10000\n",
      "Enter the Time period 5\n",
      "Enter the rate of Interest 5\n",
      "2500\n"
     ]
    }
   ],
   "source": [
    "p = int(input(\"Enter the Principal \"))\n",
    "t = int(input(\"Enter the Time period \"))\n",
    "r = int(input(\"Enter the rate of Interest \"))\n",
    "SI = (p*t*r)/100\n",
    "print(SI)"
   ]
  },
  {
   "cell_type": "markdown",
   "id": "bbf1d2c4",
   "metadata": {},
   "source": [
    "# Q78. Write a Python program to calculate the compound interest. Formula of compound interest is A = P(1+ R/100)^t."
   ]
  },
  {
   "cell_type": "code",
   "execution_count": 276,
   "id": "09dde8e3",
   "metadata": {},
   "outputs": [
    {
     "data": {
      "text/plain": [
       "2762.815625000003"
      ]
     },
     "execution_count": 276,
     "metadata": {},
     "output_type": "execute_result"
    }
   ],
   "source": [
    "def calc_CI (principle,time,rate):\n",
    "    amount = principle * (pow((1 + rate / 100), time))\n",
    "    CI = amount-principle\n",
    "    return CI\n",
    "calc_CI(10000,5,5)"
   ]
  },
  {
   "cell_type": "markdown",
   "id": "e97abc09",
   "metadata": {},
   "source": [
    "# Q79. Write a Python program to check if a number is prime or not."
   ]
  },
  {
   "cell_type": "code",
   "execution_count": 312,
   "id": "09e9f444",
   "metadata": {},
   "outputs": [
    {
     "name": "stdout",
     "output_type": "stream",
     "text": [
      "11\n"
     ]
    },
    {
     "data": {
      "text/plain": [
       "'is a prime number'"
      ]
     },
     "execution_count": 312,
     "metadata": {},
     "output_type": "execute_result"
    }
   ],
   "source": [
    "def prime_num(num):\n",
    "    for i in range(2,num):\n",
    "        if i%num == 0:\n",
    "            return \"is not a prime number\"\n",
    "            break\n",
    "    else:\n",
    "        return \"is a prime number\"\n",
    "num1 = int (input())\n",
    "prime_num(num1)"
   ]
  },
  {
   "cell_type": "markdown",
   "id": "5d5539d7",
   "metadata": {},
   "source": [
    "# Q80. Write a Python program to check Armstrong Number."
   ]
  },
  {
   "cell_type": "code",
   "execution_count": 21,
   "id": "7cad89f0",
   "metadata": {
    "scrolled": true
   },
   "outputs": [
    {
     "name": "stdout",
     "output_type": "stream",
     "text": [
      "Enter the number: 222\n",
      "222 is not an armstrong number\n"
     ]
    }
   ],
   "source": [
    "def armstrongNumber(inpNum):\n",
    "    n = len (str(inpNum))\n",
    "    sumofn = 0\n",
    "    for i in str(inpNum):\n",
    "        nthpow = pow(int(i),n)\n",
    "        sumofn = sumofn + nthpow\n",
    "    if(sumofn == inpNum):\n",
    "        print(inpNum ,\"is an armstrong number\")\n",
    "    else:\n",
    "        print(inpNum ,\"is not an armstrong number\")\n",
    "armsNum = int (input(\"Enter the number: \"))\n",
    "armstrongNumber(armsNum)\n"
   ]
  },
  {
   "cell_type": "markdown",
   "id": "4d12f8ee",
   "metadata": {},
   "source": [
    "# Q81. Write a Python program to find the n-th Fibonacci Number."
   ]
  },
  {
   "cell_type": "code",
   "execution_count": 26,
   "id": "b6935208",
   "metadata": {},
   "outputs": [
    {
     "name": "stdout",
     "output_type": "stream",
     "text": [
      "Enter the number: 12\n"
     ]
    },
    {
     "data": {
      "text/plain": [
       "144"
      ]
     },
     "execution_count": 26,
     "metadata": {},
     "output_type": "execute_result"
    }
   ],
   "source": [
    "def fib(num):\n",
    "    if(num<0):\n",
    "        return -1\n",
    "    elif(num==0 or num==1):\n",
    "        return num\n",
    "    else:\n",
    "        return fib(num-1) + fib(num-2)\n",
    "inp_num = int (input(\"Enter the number: \"))\n",
    "fib(inp_num)"
   ]
  },
  {
   "cell_type": "markdown",
   "id": "51a4bf12",
   "metadata": {},
   "source": [
    "# Q82. Write a Python program to interchange the first and last element in a list."
   ]
  },
  {
   "cell_type": "code",
   "execution_count": 43,
   "id": "db3fab06",
   "metadata": {},
   "outputs": [
    {
     "name": "stdout",
     "output_type": "stream",
     "text": [
      "Enter the no of items in the list: 10\n",
      "Enter the list items: 1\n",
      "Enter the list items: 2\n",
      "Enter the list items: 3\n",
      "Enter the list items: 4\n",
      "Enter the list items: 5\n",
      "Enter the list items: 6\n",
      "Enter the list items: 7\n",
      "Enter the list items: 8\n",
      "Enter the list items: 9\n",
      "Enter the list items: 10\n",
      "[10, 2, 3, 4, 5, 6, 7, 8, 9, 1]\n"
     ]
    }
   ],
   "source": [
    "def firstAndLast(lst):\n",
    "    temp = lst[-1]\n",
    "    lst[-1] = lst[0]\n",
    "    lst[0] = temp\n",
    "    print(lst)\n",
    "list1 = []\n",
    "numofElements = int (input(\"Enter the no of items in the list: \"))\n",
    "for i in range(numofElements):\n",
    "    element = int (input(\"Enter the list items: \"))\n",
    "    list1.append(element)\n",
    "firstAndLast(list1)"
   ]
  },
  {
   "cell_type": "markdown",
   "id": "d8a82ec3",
   "metadata": {},
   "source": [
    "# Q83. Write a Python program to swap two elements in a list."
   ]
  },
  {
   "cell_type": "code",
   "execution_count": 48,
   "id": "68175121",
   "metadata": {},
   "outputs": [
    {
     "name": "stdout",
     "output_type": "stream",
     "text": [
      "Enter the no of items in the list: 5\n",
      "Enter the list items: 1\n",
      "Enter the list items: 2\n",
      "Enter the list items: 3\n",
      "Enter the list items: 4\n",
      "Enter the list items: 5\n",
      "[1, 4, 3, 2, 5]\n"
     ]
    }
   ],
   "source": [
    "def swapFunc(list,pos1,pos2):\n",
    "    list[pos1],list[pos2] = list[pos2],list[pos1]\n",
    "    return list\n",
    "pos1,pos2 = 2,4\n",
    "list = []\n",
    "numofElements = int (input(\"Enter the no of items in the list: \"))\n",
    "for i in range(numofElements):\n",
    "    element = int (input(\"Enter the list items: \"))\n",
    "    list.append(element)\n",
    "print(swapFunc(list,pos1-1,pos2-1))"
   ]
  },
  {
   "cell_type": "markdown",
   "id": "c7b6f75a",
   "metadata": {},
   "source": [
    "# Q84. Write a Python program to find N largest element from a list."
   ]
  },
  {
   "cell_type": "code",
   "execution_count": 49,
   "id": "4f535735",
   "metadata": {},
   "outputs": [
    {
     "name": "stdout",
     "output_type": "stream",
     "text": [
      "Enter the no of items in the list: 5\n",
      "Enter the list items: 200\n",
      "Enter the list items: 300\n",
      "Enter the list items: 100\n",
      "Enter the list items: 500\n",
      "Enter the list items: 400\n",
      "500\n"
     ]
    }
   ],
   "source": [
    "def findLargest(list):\n",
    "    largestNum = 0\n",
    "    for i in list:\n",
    "        if (i>largestNum):\n",
    "            largestNum = i\n",
    "    return largestNum\n",
    "list = []\n",
    "numofElements = int (input(\"Enter the no of items in the list: \"))\n",
    "for i in range(numofElements):\n",
    "    element = int (input(\"Enter the list items: \"))\n",
    "    list.append(element)\n",
    "print(findLargest(list))"
   ]
  },
  {
   "cell_type": "markdown",
   "id": "11f9292a",
   "metadata": {},
   "source": [
    "# Q85. Write a Python program to find cumulative sum of a list."
   ]
  },
  {
   "cell_type": "code",
   "execution_count": 51,
   "id": "8a8674a4",
   "metadata": {},
   "outputs": [
    {
     "name": "stdout",
     "output_type": "stream",
     "text": [
      "Enter the no of items in the list: 4\n",
      "Enter the list items: 100\n",
      "Enter the list items: 200\n",
      "Enter the list items: 300\n",
      "Enter the list items: 400\n",
      "The cumulative sum =  1000\n"
     ]
    }
   ],
   "source": [
    "def cumSum(list):\n",
    "    cSum = 0\n",
    "    for i in list:\n",
    "        cSum += i\n",
    "    return cSum\n",
    "list = []\n",
    "numofElements = int (input(\"Enter the no of items in the list: \"))\n",
    "for i in range(numofElements):\n",
    "    element = int (input(\"Enter the list items: \"))\n",
    "    list.append(element)\n",
    "print(\"The cumulative sum = \",cumSum(list))    "
   ]
  },
  {
   "cell_type": "markdown",
   "id": "344a8f71",
   "metadata": {},
   "source": [
    "# Q86. Write a Python program to check if a string is palindrome or not."
   ]
  },
  {
   "cell_type": "code",
   "execution_count": 72,
   "id": "3c03e7ad",
   "metadata": {},
   "outputs": [
    {
     "name": "stdout",
     "output_type": "stream",
     "text": [
      "Enter the string: malayalam\n",
      "malayalam is a palindrome\n"
     ]
    }
   ],
   "source": [
    "def checkPalindrome(string):\n",
    "    stringRev = string[-1::-1]\n",
    "    if(string == stringRev):\n",
    "        print(string,\"is a palindrome\")\n",
    "    else:\n",
    "        print(string,\"is not a palindrome\")\n",
    "string1 = input(\"Enter the string: \")\n",
    "checkPalindrome(string1)"
   ]
  },
  {
   "cell_type": "markdown",
   "id": "a8b117df",
   "metadata": {},
   "source": [
    "# Q87. Write a Python program to remove i'th element from a string."
   ]
  },
  {
   "cell_type": "code",
   "execution_count": 87,
   "id": "c0d442e6",
   "metadata": {},
   "outputs": [],
   "source": [
    "string1 = \"Hi I am Shiva\"\n",
    "index = 3"
   ]
  },
  {
   "cell_type": "code",
   "execution_count": 89,
   "id": "4b14a75f",
   "metadata": {},
   "outputs": [
    {
     "data": {
      "text/plain": [
       "'Hi  am Shiva'"
      ]
     },
     "execution_count": 89,
     "metadata": {},
     "output_type": "execute_result"
    }
   ],
   "source": [
    "ith_indx = string1[index]\n",
    "string1.replace(ith_indx,\"\")"
   ]
  },
  {
   "cell_type": "markdown",
   "id": "82c90021",
   "metadata": {},
   "source": [
    "index = 3\n",
    "for i in string1:\n",
    "    print(string1[index])"
   ]
  },
  {
   "cell_type": "code",
   "execution_count": 91,
   "id": "8d3c870a",
   "metadata": {},
   "outputs": [
    {
     "name": "stdout",
     "output_type": "stream",
     "text": [
      "Enter the String: I am a upcoming Data Engineer\n",
      "Enter the ith index: 7\n"
     ]
    },
    {
     "data": {
      "text/plain": [
       "'I am a pcoming Data Engineer'"
      ]
     },
     "execution_count": 91,
     "metadata": {},
     "output_type": "execute_result"
    }
   ],
   "source": [
    "def removeIthEle(string,index):\n",
    "    ith_indx = string[index]\n",
    "    res = string.replace(ith_indx,\"\")\n",
    "    return res\n",
    "string = input(\"Enter the String: \")\n",
    "index = int (input(\"Enter the ith index: \"))\n",
    "removeIthEle(string,index)"
   ]
  },
  {
   "cell_type": "markdown",
   "id": "2f2bdad2",
   "metadata": {},
   "source": [
    "# Q88. Write a Python program to check if a substring is present in a given string."
   ]
  },
  {
   "cell_type": "code",
   "execution_count": 107,
   "id": "f83ab169",
   "metadata": {},
   "outputs": [
    {
     "name": "stdout",
     "output_type": "stream",
     "text": [
      "Enter the String value: Welcome to iNeuron Big Data Course\n",
      "Enter the sub string value: iNeuron\n",
      "['yes it is present']\n"
     ]
    }
   ],
   "source": [
    "string = input(\"Enter the String value: \")\n",
    "subString = input(\"Enter the sub string value: \")\n",
    "print([\"yes it is present\" if subString in string else \"no it is not\"])"
   ]
  },
  {
   "cell_type": "markdown",
   "id": "ee1163bc",
   "metadata": {},
   "source": [
    "# Q89. Write a Python program to find words which are greater than given length k."
   ]
  },
  {
   "cell_type": "code",
   "execution_count": 117,
   "id": "859fead0",
   "metadata": {},
   "outputs": [
    {
     "data": {
      "text/plain": [
       "['Welcome', 'to', 'iNeuron', 'Big', 'Data', 'Course']"
      ]
     },
     "execution_count": 117,
     "metadata": {},
     "output_type": "execute_result"
    }
   ],
   "source": [
    "string = \"Welcome to iNeuron Big Data Course\"\n",
    "strList = string.split()\n",
    "strList"
   ]
  },
  {
   "cell_type": "code",
   "execution_count": 124,
   "id": "a7642959",
   "metadata": {},
   "outputs": [
    {
     "name": "stdout",
     "output_type": "stream",
     "text": [
      "Welcome\n",
      "iNeuron\n",
      "Data\n",
      "Course\n"
     ]
    }
   ],
   "source": [
    "strList\n",
    "lenk = 3\n",
    "for i in strList:\n",
    "    if (len(i) > lenk):\n",
    "        print(i)"
   ]
  },
  {
   "cell_type": "markdown",
   "id": "50cb321f",
   "metadata": {},
   "source": [
    "# Q90. Write a Python program to extract unquire dictionary values."
   ]
  },
  {
   "cell_type": "code",
   "execution_count": 126,
   "id": "29985c4e",
   "metadata": {},
   "outputs": [],
   "source": [
    "my_dict = {1:\"apple\",2:\"orange\",3:\"grapes\"}"
   ]
  },
  {
   "cell_type": "code",
   "execution_count": 133,
   "id": "0f8be175",
   "metadata": {},
   "outputs": [
    {
     "data": {
      "text/plain": [
       "dict_values(['apple', 'orange', 'grapes'])"
      ]
     },
     "execution_count": 133,
     "metadata": {},
     "output_type": "execute_result"
    }
   ],
   "source": [
    "my_dict.values()"
   ]
  },
  {
   "cell_type": "markdown",
   "id": "4fc1d4ce",
   "metadata": {},
   "source": [
    "# Q91. Write a Python program to merge two dictionary."
   ]
  },
  {
   "cell_type": "code",
   "execution_count": 136,
   "id": "dc874960",
   "metadata": {},
   "outputs": [],
   "source": [
    "my_dict1 = {4:\"Watermelon\",5:\"kiwi\",6:\"mango\"}"
   ]
  },
  {
   "cell_type": "code",
   "execution_count": 138,
   "id": "c386c1ac",
   "metadata": {},
   "outputs": [],
   "source": [
    "my_dict.update(my_dict1)"
   ]
  },
  {
   "cell_type": "code",
   "execution_count": 139,
   "id": "f4dfa3bd",
   "metadata": {},
   "outputs": [
    {
     "data": {
      "text/plain": [
       "{1: 'apple', 2: 'orange', 3: 'grapes', 4: 'Watermelon', 5: 'kiwi', 6: 'mango'}"
      ]
     },
     "execution_count": 139,
     "metadata": {},
     "output_type": "execute_result"
    }
   ],
   "source": [
    "my_dict"
   ]
  },
  {
   "cell_type": "markdown",
   "id": "407d2f49",
   "metadata": {},
   "source": [
    "# Q92. Write a Python program to convert a list of tuples into dictionary.\n",
    "\n",
    "Input : [('Sachin', 10), ('MSD', 7), ('Kohli', 18), ('Rohit', 45)]\n",
    "Output : {'Sachin': 10, 'MSD': 7, 'Kohli': 18, 'Rohit': 45}"
   ]
  },
  {
   "cell_type": "code",
   "execution_count": 141,
   "id": "c7435218",
   "metadata": {},
   "outputs": [],
   "source": [
    "inputTup = [('Sachin', 10), ('MSD', 7), ('Kohli', 18), ('Rohit', 45)]"
   ]
  },
  {
   "cell_type": "code",
   "execution_count": 144,
   "id": "1bb8d54c",
   "metadata": {},
   "outputs": [
    {
     "data": {
      "text/plain": [
       "{'Sachin': 10, 'MSD': 7, 'Kohli': 18, 'Rohit': 45}"
      ]
     },
     "execution_count": 144,
     "metadata": {},
     "output_type": "execute_result"
    }
   ],
   "source": [
    "outDict = dict(inputTup)\n",
    "outDict"
   ]
  },
  {
   "cell_type": "markdown",
   "id": "752ec13c",
   "metadata": {},
   "source": [
    "# Q93. Write a Python program to create a list of tuples from given list having number and its cube in each tuple.\n",
    "\n",
    "Input: list = [9, 5, 6]\n",
    "Output: [(9, 729), (5, 125), (6, 216)]"
   ]
  },
  {
   "cell_type": "code",
   "execution_count": 146,
   "id": "066162b0",
   "metadata": {},
   "outputs": [
    {
     "name": "stdout",
     "output_type": "stream",
     "text": [
      "[9, 729]\n",
      "[5, 125]\n",
      "[6, 216]\n"
     ]
    }
   ],
   "source": [
    "list1 = [9,5,6]\n",
    "for i in list1:\n",
    "    outpt = [i,pow(i,3)]\n",
    "    print(outpt)"
   ]
  },
  {
   "cell_type": "markdown",
   "id": "f99e9052",
   "metadata": {},
   "source": [
    "# Q94. Write a Python program to get all combinations of 2 tuples.\n",
    "\n",
    "Input : test_tuple1 = (7, 2), test_tuple2 = (7, 8)\n",
    "Output : [(7, 7), (7, 8), (2, 7), (2, 8), (7, 7), (7, 2), (8, 7), (8, 2)]"
   ]
  },
  {
   "cell_type": "code",
   "execution_count": 170,
   "id": "9926eac0",
   "metadata": {},
   "outputs": [
    {
     "data": {
      "text/plain": [
       "[(7, 7), (7, 8), (2, 7), (2, 8), (7, 7), (7, 2), (8, 7), (8, 2)]"
      ]
     },
     "execution_count": 170,
     "metadata": {},
     "output_type": "execute_result"
    }
   ],
   "source": [
    "test_tuple1 = (7,2)\n",
    "test_tuple2 = (7,8)\n",
    "res1 =  [(a, b) for a in test_tuple1 for b in test_tuple2]\n",
    "res1 += [(a, b) for a in test_tuple2 for b in test_tuple1]\n",
    "res1"
   ]
  },
  {
   "cell_type": "markdown",
   "id": "d3c3d3d2",
   "metadata": {},
   "source": [
    "Q95. Write a Python program to sort a list of tuples by second item.\n",
    "\n",
    "Input : [('for', 24), ('Geeks', 8), ('Geeks', 30)] \n",
    "Output : [('Geeks', 8), ('for', 24), ('Geeks', 30)]"
   ]
  },
  {
   "cell_type": "code",
   "execution_count": 178,
   "id": "2847d480",
   "metadata": {},
   "outputs": [],
   "source": [
    "Input = [('for', 24), ('Geeks', 8), ('Geeks', 30)]"
   ]
  },
  {
   "cell_type": "code",
   "execution_count": 223,
   "id": "40f6651e",
   "metadata": {},
   "outputs": [
    {
     "name": "stdout",
     "output_type": "stream",
     "text": [
      "[('Geeks', 8), ('for', 24), ('Geeks', 30)]\n"
     ]
    }
   ],
   "source": [
    "def sort_key(e):\n",
    "    return e[1]\n",
    "Input.sort(key = sort_key)\n",
    "print(Input)"
   ]
  },
  {
   "cell_type": "markdown",
   "id": "f908fb0f",
   "metadata": {},
   "source": [
    "# Q96. Write a python program to print below pattern.\n",
    "\n",
    "* \n",
    "* * \n",
    "* * * \n",
    "* * * * \n",
    "* * * * * "
   ]
  },
  {
   "cell_type": "code",
   "execution_count": 184,
   "id": "0573b5d8",
   "metadata": {},
   "outputs": [
    {
     "name": "stdout",
     "output_type": "stream",
     "text": [
      "* \n",
      "* * \n",
      "* * * \n",
      "* * * * \n",
      "* * * * * \n"
     ]
    }
   ],
   "source": [
    "for i in range(5):\n",
    "    for j in range(i+1):\n",
    "        print(\"* \",end=\"\")\n",
    "    print()"
   ]
  },
  {
   "cell_type": "markdown",
   "id": "7f037ea3",
   "metadata": {},
   "source": [
    "# Q97. Write a python program to print below pattern.\n",
    "\n",
    "    *\n",
    "   **\n",
    "  ***\n",
    " ****\n",
    "*****"
   ]
  },
  {
   "cell_type": "code",
   "execution_count": 203,
   "id": "8242bceb",
   "metadata": {},
   "outputs": [
    {
     "name": "stdout",
     "output_type": "stream",
     "text": [
      "    *\n",
      "   **\n",
      "  ***\n",
      " ****\n",
      "*****\n"
     ]
    }
   ],
   "source": [
    "for i in range(5):\n",
    "    for j in range(5-i-1):\n",
    "        print(\" \",end=\"\")\n",
    "    for j in range(i+1):\n",
    "        print(\"*\",end=\"\")\n",
    "    print()"
   ]
  },
  {
   "cell_type": "markdown",
   "id": "ffb71d3d",
   "metadata": {},
   "source": [
    "# Q98. Write a python program to print below pattern.\n",
    "\n",
    "    * \n",
    "   * * \n",
    "  * * * \n",
    " * * * * \n",
    "* * * * * "
   ]
  },
  {
   "cell_type": "code",
   "execution_count": 219,
   "id": "27bb4b8a",
   "metadata": {},
   "outputs": [
    {
     "name": "stdout",
     "output_type": "stream",
     "text": [
      "    * \n",
      "   * * \n",
      "  * * * \n",
      " * * * * \n",
      "* * * * * \n"
     ]
    }
   ],
   "source": [
    "for i in range(5):\n",
    "    for j in range(5-i-1):\n",
    "        print(\" \",end=\"\")\n",
    "    for j in range(i+1):\n",
    "        print(\"*\",end=\" \")\n",
    "    print()"
   ]
  },
  {
   "cell_type": "markdown",
   "id": "bf9de120",
   "metadata": {},
   "source": [
    "# Q99. Write a python program to print below pattern.\n",
    "\n",
    "1 \n",
    "1 2 \n",
    "1 2 3 \n",
    "1 2 3 4 \n",
    "1 2 3 4 5"
   ]
  },
  {
   "cell_type": "code",
   "execution_count": 207,
   "id": "8b50e6bc",
   "metadata": {},
   "outputs": [
    {
     "name": "stdout",
     "output_type": "stream",
     "text": [
      "1 \n",
      "1 2 \n",
      "1 2 3 \n",
      "1 2 3 4 \n",
      "1 2 3 4 5 \n"
     ]
    }
   ],
   "source": [
    "for i in range(5):\n",
    "    for j in range(i+1):\n",
    "        print(j+1,end=\" \")\n",
    "    print()"
   ]
  },
  {
   "cell_type": "markdown",
   "id": "36c0bce4",
   "metadata": {},
   "source": [
    "# Q100. Write a python program to print below pattern.\n",
    "\n",
    "A \n",
    "B B \n",
    "C C C \n",
    "D D D D \n",
    "E E E E E "
   ]
  },
  {
   "cell_type": "code",
   "execution_count": 222,
   "id": "2f936551",
   "metadata": {},
   "outputs": [
    {
     "name": "stdout",
     "output_type": "stream",
     "text": [
      "A \n",
      "B B \n",
      "C C C \n",
      "D D D D \n",
      "E E E E E \n"
     ]
    }
   ],
   "source": [
    "for i in range(5):\n",
    "    k = ord(\"A\") + i\n",
    "    for j in range(i+1):\n",
    "        print(chr(k),end=\" \")\n",
    "    print()"
   ]
  }
 ],
 "metadata": {
  "kernelspec": {
   "display_name": "Python 3 (ipykernel)",
   "language": "python",
   "name": "python3"
  },
  "language_info": {
   "codemirror_mode": {
    "name": "ipython",
    "version": 3
   },
   "file_extension": ".py",
   "mimetype": "text/x-python",
   "name": "python",
   "nbconvert_exporter": "python",
   "pygments_lexer": "ipython3",
   "version": "3.9.13"
  }
 },
 "nbformat": 4,
 "nbformat_minor": 5
}

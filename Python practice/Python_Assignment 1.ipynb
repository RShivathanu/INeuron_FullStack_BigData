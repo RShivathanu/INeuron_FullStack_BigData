{
 "cells": [
  {
   "cell_type": "markdown",
   "id": "5f691be9",
   "metadata": {},
   "source": [
    "# Ineuron Python Assignment-1 (1st week classes)\n",
    "Total 25 Questions"
   ]
  },
  {
   "cell_type": "markdown",
   "id": "53db2db1",
   "metadata": {},
   "source": [
    "# Q1. Why do we call Python as a general purpose and high-level programming language?\n",
    "\n",
    "Because, Python can be used in a wide variety of applications like Data Science, Machine learning, web development etc... \n",
    "Python is an object-oriented, high-level programming language. Object-oriented means this language is based around objects (such as data) rather than functions, and high-level means it's easy for humans to understand."
   ]
  },
  {
   "cell_type": "markdown",
   "id": "a64db8b1",
   "metadata": {},
   "source": [
    "# Q2. Why is Python called a dynamically typed language?\n",
    "\n",
    "Python don't have any problem even if we don't declare the type of variable. It states the kind of variable in the runtime of the program. Python also take cares of the memory management which is crucial in programming. So, Python is a dynamically typed language."
   ]
  },
  {
   "cell_type": "markdown",
   "id": "dde5908e",
   "metadata": {},
   "source": [
    "# Q3. List some pros and cons of Python programming language?\n",
    "\n",
    "Pros:\n",
    "    Python is easy to learn and read\n",
    "    Python enhances productivity\n",
    "    Python is free, open-source, and has a vibrant community\n",
    "    Python is a portable programming language\n",
    "    Python is an interpreted language.\n",
    "    \n",
    "Cons:\n",
    "    Python can have runtime errors\n",
    "    Python consumes a lot of memory space\n",
    "    Python is not easy to test\n",
    "    Python is not so strong with mobile computing\n",
    "    Python has speed limitations."
   ]
  },
  {
   "cell_type": "markdown",
   "id": "9db7d187",
   "metadata": {},
   "source": [
    "# Q4. In what all domains can we use Python?\n",
    "\n",
    "Data Science\n",
    "ML and AI\n",
    "Application Development\n",
    "Desktop GUI"
   ]
  },
  {
   "cell_type": "markdown",
   "id": "895c7fdb",
   "metadata": {},
   "source": [
    "# Q5. What are variable and how can we declare them?"
   ]
  },
  {
   "cell_type": "code",
   "execution_count": 7,
   "id": "8e7941de",
   "metadata": {},
   "outputs": [],
   "source": [
    "int_var = 20"
   ]
  },
  {
   "cell_type": "markdown",
   "id": "416bd047",
   "metadata": {},
   "source": [
    "Here, int_var is a variable which acts as a container to hold the value of Data type"
   ]
  },
  {
   "cell_type": "markdown",
   "id": "a696a36b",
   "metadata": {},
   "source": [
    "# Q6. How can we take an input from the user in Python?"
   ]
  },
  {
   "cell_type": "code",
   "execution_count": 17,
   "id": "e9c27fbd",
   "metadata": {},
   "outputs": [
    {
     "name": "stdout",
     "output_type": "stream",
     "text": [
      "Enter the input22\n",
      "22\n"
     ]
    }
   ],
   "source": [
    "user_input = int (input (\"Enter the input\"))\n",
    "print(user_input)"
   ]
  },
  {
   "cell_type": "markdown",
   "id": "d1a7302a",
   "metadata": {},
   "source": [
    "# Q7. What is the default datatype of the value that has been taken as an input using input() function?"
   ]
  },
  {
   "cell_type": "code",
   "execution_count": 18,
   "id": "67422814",
   "metadata": {},
   "outputs": [
    {
     "name": "stdout",
     "output_type": "stream",
     "text": [
      "<class 'int'>\n"
     ]
    }
   ],
   "source": [
    "print(type(user_input))"
   ]
  },
  {
   "cell_type": "raw",
   "id": "a8f07265",
   "metadata": {},
   "source": [
    "int is the default datatype"
   ]
  },
  {
   "cell_type": "markdown",
   "id": "940291ae",
   "metadata": {},
   "source": [
    "# Q8. What is type casting?\n",
    "    Converting from one datatype to another datatype is called casting. Below is an example for type casting."
   ]
  },
  {
   "cell_type": "code",
   "execution_count": 19,
   "id": "7f1c0bb5",
   "metadata": {},
   "outputs": [
    {
     "name": "stdout",
     "output_type": "stream",
     "text": [
      "22.0\n"
     ]
    }
   ],
   "source": [
    "user_input_float = float(user_input)\n",
    "print(user_input_float)"
   ]
  },
  {
   "cell_type": "markdown",
   "id": "4cd8c63c",
   "metadata": {},
   "source": [
    "# Q9. Can we take more than one input from the user using single input() function? If yes, how? If no, why?"
   ]
  },
  {
   "cell_type": "code",
   "execution_count": 24,
   "id": "8c8e31ad",
   "metadata": {},
   "outputs": [
    {
     "name": "stdout",
     "output_type": "stream",
     "text": [
      "Enter 3 inputs :22 1 33\n",
      "input1 : 22\n",
      "input2 : 1\n",
      "input3 : 33\n"
     ]
    }
   ],
   "source": [
    "# Yes, we can take more than one input from user using split function \n",
    "input1, input2, input3 = input(\"Enter 3 inputs :\").split()\n",
    "print(\"input1 :\",input1)\n",
    "print(\"input2 :\",input2)\n",
    "print(\"input3 :\",input3)"
   ]
  },
  {
   "cell_type": "markdown",
   "id": "e3432c8a",
   "metadata": {},
   "source": [
    "# Q10. What are keywords?"
   ]
  },
  {
   "cell_type": "code",
   "execution_count": 25,
   "id": "40f754af",
   "metadata": {},
   "outputs": [
    {
     "name": "stdout",
     "output_type": "stream",
     "text": [
      "These are the keywords in this version\n",
      "['False', 'None', 'True', '__peg_parser__', 'and', 'as', 'assert', 'async', 'await', 'break', 'class', 'continue', 'def', 'del', 'elif', 'else', 'except', 'finally', 'for', 'from', 'global', 'if', 'import', 'in', 'is', 'lambda', 'nonlocal', 'not', 'or', 'pass', 'raise', 'return', 'try', 'while', 'with', 'yield']\n"
     ]
    }
   ],
   "source": [
    "# Every scripting language has designated words or keywords, with particular definitions and usage guidelines. \n",
    "#  Python is no exception. The fundamental constituent elements of any Python program are Python keywords.\n",
    "import keyword\n",
    "print(\"These are the keywords in this version\")\n",
    "print(keyword.kwlist)"
   ]
  },
  {
   "cell_type": "markdown",
   "id": "cc1d3228",
   "metadata": {},
   "source": [
    "\n",
    "# Q11. Can we use keywords as a variable? Support your answer with reason.\n",
    "\n",
    "Keywords are used to define the syntax of the coding. The keyword cannot be used as an identifier, function, and variable name. All the keywords in python are written in lower case except True and False."
   ]
  },
  {
   "cell_type": "markdown",
   "id": "42a64a54",
   "metadata": {},
   "source": [
    "# Q12. What is indentation? What's the use of indentaion in Python?\n",
    "\n",
    "Indentation refers to the spaces at the beginning of a code line. Where in other programming languages the indentation in code is for readability only, the indentation in Python is very important. Python uses indentation to indicate a block of code."
   ]
  },
  {
   "cell_type": "markdown",
   "id": "2a94a316",
   "metadata": {},
   "source": [
    "# Q13. How can we throw some output in Python?\n",
    "\n",
    "The basic way to do output is the print statement."
   ]
  },
  {
   "cell_type": "code",
   "execution_count": 28,
   "id": "06395fb5",
   "metadata": {},
   "outputs": [
    {
     "name": "stdout",
     "output_type": "stream",
     "text": [
      "22\n"
     ]
    }
   ],
   "source": [
    "print(22)"
   ]
  },
  {
   "cell_type": "markdown",
   "id": "8a632a88",
   "metadata": {},
   "source": [
    "# Q14. What are operators in Python?\n",
    "\n",
    "In Python, operators are special symbols that designate that some sort of computation should be performed.\n",
    "The values that an operator acts on are called operands.There are 7 types of operator\n",
    "\n",
    "Arithmetic operators\n",
    "Assignment operators\n",
    "Comparison operators\n",
    "Logical operators\n",
    "Identity operators\n",
    "Membership operators\n",
    "Bitwise operators"
   ]
  },
  {
   "cell_type": "code",
   "execution_count": 29,
   "id": "f1e1e867",
   "metadata": {},
   "outputs": [
    {
     "name": "stdout",
     "output_type": "stream",
     "text": [
      "30\n",
      "-10\n",
      "200\n",
      "0.5\n"
     ]
    }
   ],
   "source": [
    "# Arithmetic operators example\n",
    "a = 10\n",
    "b = 20\n",
    "opAdd = a + b\n",
    "opSub = a - b\n",
    "opMul = a * b\n",
    "opDiv = a / b\n",
    "print(opAdd)\n",
    "print(opSub)\n",
    "print(opMul)\n",
    "print(opDiv)\n",
    "\n",
    "# Here +,-,/,* are Arithmetic Operators\n"
   ]
  },
  {
   "cell_type": "code",
   "execution_count": 31,
   "id": "41b6dae9",
   "metadata": {},
   "outputs": [
    {
     "name": "stdout",
     "output_type": "stream",
     "text": [
      "20\n"
     ]
    }
   ],
   "source": [
    "# Assignment operators example\n",
    "a += b\n",
    "print(b)\n",
    "# Here +- is a assignment operator"
   ]
  },
  {
   "cell_type": "markdown",
   "id": "4eda49e0",
   "metadata": {},
   "source": [
    "# Q15. What is difference between / and // operators?\n",
    "\n",
    "/ is used for floating point number\n",
    "// avoids the fractional part and round of the number into whole number"
   ]
  },
  {
   "cell_type": "code",
   "execution_count": 32,
   "id": "35d7c2e1",
   "metadata": {},
   "outputs": [
    {
     "name": "stdout",
     "output_type": "stream",
     "text": [
      "2.5\n",
      "2\n"
     ]
    }
   ],
   "source": [
    "print(a/b)\n",
    "print(a//b)"
   ]
  },
  {
   "cell_type": "markdown",
   "id": "894ab19c",
   "metadata": {},
   "source": [
    "# Q16. Write a code that gives following as an output.\n",
    "\n",
    "    \"iNeuroniNeuroniNeuroniNeuron\""
   ]
  },
  {
   "cell_type": "code",
   "execution_count": 33,
   "id": "dd5d1d77",
   "metadata": {},
   "outputs": [
    {
     "name": "stdout",
     "output_type": "stream",
     "text": [
      "iNeuroniNeuroniNeuroniNeuron\n"
     ]
    }
   ],
   "source": [
    "iNeuron = \"iNeuroniNeuroniNeuroniNeuron\"\n",
    "print(iNeuron)"
   ]
  },
  {
   "cell_type": "markdown",
   "id": "e0fa2f79",
   "metadata": {},
   "source": [
    "# Q17. Write a code to take a number as an input from the user and check if the number is odd or even."
   ]
  },
  {
   "cell_type": "code",
   "execution_count": 37,
   "id": "e8011b25",
   "metadata": {},
   "outputs": [
    {
     "name": "stdout",
     "output_type": "stream",
     "text": [
      "Enter the number: 23\n",
      "odd\n"
     ]
    }
   ],
   "source": [
    "numb = int (input(\"Enter the number: \"))\n",
    "if numb%2==0:\n",
    "    print(\"even\")\n",
    "else:\n",
    "    print(\"odd\")"
   ]
  },
  {
   "cell_type": "markdown",
   "id": "0a4b2c4a",
   "metadata": {},
   "source": [
    "# Q18. What are boolean operator?\n",
    "\n",
    "True and False are 2 operators."
   ]
  },
  {
   "cell_type": "code",
   "execution_count": 40,
   "id": "89e29950",
   "metadata": {},
   "outputs": [
    {
     "name": "stdout",
     "output_type": "stream",
     "text": [
      "False\n",
      "True\n",
      "False\n"
     ]
    }
   ],
   "source": [
    "\n",
    "print(2>3)\n",
    "print(5==5)\n",
    "print(10!=10)\n"
   ]
  },
  {
   "cell_type": "markdown",
   "id": "e26db4d5",
   "metadata": {},
   "source": [
    "# Q19. What will the output of the following?"
   ]
  },
  {
   "cell_type": "code",
   "execution_count": 48,
   "id": "af293cf2",
   "metadata": {},
   "outputs": [
    {
     "data": {
      "text/plain": [
       "1"
      ]
     },
     "execution_count": 48,
     "metadata": {},
     "output_type": "execute_result"
    }
   ],
   "source": [
    "1 or 0"
   ]
  },
  {
   "cell_type": "code",
   "execution_count": 43,
   "id": "9675afdf",
   "metadata": {},
   "outputs": [
    {
     "data": {
      "text/plain": [
       "0"
      ]
     },
     "execution_count": 43,
     "metadata": {},
     "output_type": "execute_result"
    }
   ],
   "source": [
    "0 and 0"
   ]
  },
  {
   "cell_type": "code",
   "execution_count": 44,
   "id": "1edb1b72",
   "metadata": {},
   "outputs": [
    {
     "data": {
      "text/plain": [
       "False"
      ]
     },
     "execution_count": 44,
     "metadata": {},
     "output_type": "execute_result"
    }
   ],
   "source": [
    "True and False and True"
   ]
  },
  {
   "cell_type": "code",
   "execution_count": 45,
   "id": "2550e888",
   "metadata": {},
   "outputs": [
    {
     "data": {
      "text/plain": [
       "1"
      ]
     },
     "execution_count": 45,
     "metadata": {},
     "output_type": "execute_result"
    }
   ],
   "source": [
    "1 or 0 or 0"
   ]
  },
  {
   "cell_type": "markdown",
   "id": "6ae9e754",
   "metadata": {},
   "source": [
    "# Q20. What are conditional statements in Python?\n",
    "\n",
    "It is used to determine whether a block of code will be executed or not. \n",
    "Meaning if the program finds the condition defined in the if statement to be true,\n",
    "it will go ahead and execute the code block inside the if statement."
   ]
  },
  {
   "cell_type": "code",
   "execution_count": 49,
   "id": "8f8ad9bd",
   "metadata": {},
   "outputs": [
    {
     "name": "stdout",
     "output_type": "stream",
     "text": [
      "This is exmaple for if statement\n"
     ]
    }
   ],
   "source": [
    "# If statement is used to check the condition\n",
    "a = 10\n",
    "b = 20\n",
    "if a < b:\n",
    "    print(\"This is exmaple for if statement\")"
   ]
  },
  {
   "cell_type": "code",
   "execution_count": 51,
   "id": "f9a4256c",
   "metadata": {},
   "outputs": [
    {
     "name": "stdout",
     "output_type": "stream",
     "text": [
      "This is an example for elif statement\n"
     ]
    }
   ],
   "source": [
    "# Elif statement is used in case previous statemnt is false then to check the next statement\n",
    "a = 10\n",
    "b = 20\n",
    "if a > b:\n",
    "    print(\"This is an example for if statement\")\n",
    "elif a < b:\n",
    "    print(\"This is an example for elif statement\")"
   ]
  },
  {
   "cell_type": "code",
   "execution_count": 52,
   "id": "2bc042a0",
   "metadata": {},
   "outputs": [
    {
     "name": "stdout",
     "output_type": "stream",
     "text": [
      "This is an example for else statement\n"
     ]
    }
   ],
   "source": [
    "# The else keyword catches anything which isn't caught by the preceding conditions\n",
    "a = 10\n",
    "b = 20\n",
    "if a > b:\n",
    "    print(\"This is an example for if statement\")\n",
    "elif a == b:\n",
    "    print(\"This is an example for elif statement\")\n",
    "else:\n",
    "    print(\"This is an example for else statement\")"
   ]
  },
  {
   "cell_type": "markdown",
   "id": "37865be3",
   "metadata": {},
   "source": [
    "\n",
    "\n",
    "# Q22. Write a code to take the age of person as an input and if age >= 18 display \"I can vote\". If age is < 18 display \"I can't vote\"."
   ]
  },
  {
   "cell_type": "code",
   "execution_count": 55,
   "id": "b148acb4",
   "metadata": {},
   "outputs": [
    {
     "name": "stdout",
     "output_type": "stream",
     "text": [
      "Enter the age :39\n",
      "I can vote\n"
     ]
    }
   ],
   "source": [
    "person_age = int (input(\"Enter the age :\"))\n",
    "if(person_age >= 18):\n",
    "    print(\"I can vote\")\n",
    "else:\n",
    "    print(\"I can't vote\")"
   ]
  },
  {
   "cell_type": "markdown",
   "id": "591ce31d",
   "metadata": {},
   "source": [
    "# Q23. Write a code that displays the sum of all the even numbers from the given list.\n",
    "```\n",
    "numbers = [12, 75, 150, 180, 145, 525, 50]\n",
    "```"
   ]
  },
  {
   "cell_type": "code",
   "execution_count": 56,
   "id": "392e0017",
   "metadata": {},
   "outputs": [
    {
     "name": "stdout",
     "output_type": "stream",
     "text": [
      "1137\n"
     ]
    }
   ],
   "source": [
    "numbers = [12, 75, 150, 180, 145, 525, 50]\n",
    "sum = 0\n",
    "for i in numbers:\n",
    "    sum += i\n",
    "print(sum)"
   ]
  },
  {
   "cell_type": "markdown",
   "id": "bd05fd57",
   "metadata": {},
   "source": [
    "\n",
    "# Q24. Write a code to take 3 numbers as an input from the user and display the greatest no as output."
   ]
  },
  {
   "cell_type": "code",
   "execution_count": 70,
   "id": "7ea2760a",
   "metadata": {},
   "outputs": [
    {
     "name": "stdout",
     "output_type": "stream",
     "text": [
      "Enter 1st number :200\n",
      "Enter 2nd number :300\n",
      "Enter 3rd number :100\n",
      "greatest number is  300\n"
     ]
    }
   ],
   "source": [
    "firstNumber = int (input(\"Enter 1st number :\"))\n",
    "secondNumber = int (input(\"Enter 2nd number :\"))\n",
    "thirdNumber = int (input(\"Enter 3rd number :\"))\n",
    "if firstNumber> secondNumber and firstNumber > thirdNumber:\n",
    "    print(\"greatest number is \",firstNumber)\n",
    "elif secondNumber > firstNumber and secondNumber > thirdNumber:\n",
    "    print(\"greatest number is \",secondNumber)\n",
    "else:\n",
    "    print(\"greatest number is \",thirdNumber)\n",
    "\n"
   ]
  },
  {
   "cell_type": "markdown",
   "id": "4bffd9a8",
   "metadata": {},
   "source": [
    " # Q25. Write a program to display only those numbers from a list that satisfy the following conditions\n",
    " \n",
    " \n",
    "- The number must be divisible by five\n",
    "\n",
    "- If the number is greater than 150, then skip it and move to the next number\n",
    "\n",
    "- If the number is greater than 500, then stop the loop\n",
    "```\n",
    "numbers = [12, 75, 150, 180, 145, 525, 50]\n",
    "```"
   ]
  },
  {
   "cell_type": "code",
   "execution_count": 79,
   "id": "132e446f",
   "metadata": {},
   "outputs": [
    {
     "name": "stdout",
     "output_type": "stream",
     "text": [
      "75\n",
      "150\n",
      "145\n",
      "50\n"
     ]
    }
   ],
   "source": [
    "numbers = [12, 75, 150, 180, 145, 525, 50]\n",
    "for i in numbers:\n",
    "    if i%5==0:\n",
    "        if i > 150:\n",
    "            continue\n",
    "            if i > 500:\n",
    "                break\n",
    "        print(i)"
   ]
  }
 ],
 "metadata": {
  "kernelspec": {
   "display_name": "Python 3 (ipykernel)",
   "language": "python",
   "name": "python3"
  },
  "language_info": {
   "codemirror_mode": {
    "name": "ipython",
    "version": 3
   },
   "file_extension": ".py",
   "mimetype": "text/x-python",
   "name": "python",
   "nbconvert_exporter": "python",
   "pygments_lexer": "ipython3",
   "version": "3.9.13"
  }
 },
 "nbformat": 4,
 "nbformat_minor": 5
}
